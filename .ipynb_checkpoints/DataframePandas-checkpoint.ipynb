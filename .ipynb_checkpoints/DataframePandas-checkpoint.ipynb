{
 "cells": [
  {
   "cell_type": "code",
   "execution_count": 1,
   "id": "2ec31481-9835-4b51-a0f4-fb703c5c5b27",
   "metadata": {},
   "outputs": [],
   "source": [
    "import numpy as np\n",
    "import pandas as pd"
   ]
  },
  {
   "cell_type": "code",
   "execution_count": 2,
   "id": "fa3f4f2d-27a3-4023-87a5-837f4687d974",
   "metadata": {},
   "outputs": [],
   "source": [
    "data = np.random.randn(4,3)  # 2 boyutlu "
   ]
  },
  {
   "cell_type": "code",
   "execution_count": 3,
   "id": "668fde5c-d658-444e-8f09-f267c24457ee",
   "metadata": {},
   "outputs": [
    {
     "data": {
      "text/plain": [
       "array([[ 0.67867272,  0.02905788,  0.17466506],\n",
       "       [ 0.23044259, -0.78447208,  0.0840872 ],\n",
       "       [ 0.9107619 , -0.29412849, -0.1946185 ],\n",
       "       [-0.10464207,  0.08533202, -1.1624697 ]])"
      ]
     },
     "execution_count": 3,
     "metadata": {},
     "output_type": "execute_result"
    }
   ],
   "source": [
    "data"
   ]
  },
  {
   "cell_type": "code",
   "execution_count": 4,
   "id": "ab857e84-ae51-45e9-a4a2-80de591b9072",
   "metadata": {},
   "outputs": [],
   "source": [
    "df = pd.DataFrame(data)"
   ]
  },
  {
   "cell_type": "code",
   "execution_count": 5,
   "id": "a69b2f30-c3ed-41f8-822d-6350def37cba",
   "metadata": {},
   "outputs": [
    {
     "data": {
      "text/html": [
       "<div>\n",
       "<style scoped>\n",
       "    .dataframe tbody tr th:only-of-type {\n",
       "        vertical-align: middle;\n",
       "    }\n",
       "\n",
       "    .dataframe tbody tr th {\n",
       "        vertical-align: top;\n",
       "    }\n",
       "\n",
       "    .dataframe thead th {\n",
       "        text-align: right;\n",
       "    }\n",
       "</style>\n",
       "<table border=\"1\" class=\"dataframe\">\n",
       "  <thead>\n",
       "    <tr style=\"text-align: right;\">\n",
       "      <th></th>\n",
       "      <th>0</th>\n",
       "      <th>1</th>\n",
       "      <th>2</th>\n",
       "    </tr>\n",
       "  </thead>\n",
       "  <tbody>\n",
       "    <tr>\n",
       "      <th>0</th>\n",
       "      <td>0.678673</td>\n",
       "      <td>0.029058</td>\n",
       "      <td>0.174665</td>\n",
       "    </tr>\n",
       "    <tr>\n",
       "      <th>1</th>\n",
       "      <td>0.230443</td>\n",
       "      <td>-0.784472</td>\n",
       "      <td>0.084087</td>\n",
       "    </tr>\n",
       "    <tr>\n",
       "      <th>2</th>\n",
       "      <td>0.910762</td>\n",
       "      <td>-0.294128</td>\n",
       "      <td>-0.194618</td>\n",
       "    </tr>\n",
       "    <tr>\n",
       "      <th>3</th>\n",
       "      <td>-0.104642</td>\n",
       "      <td>0.085332</td>\n",
       "      <td>-1.162470</td>\n",
       "    </tr>\n",
       "  </tbody>\n",
       "</table>\n",
       "</div>"
      ],
      "text/plain": [
       "          0         1         2\n",
       "0  0.678673  0.029058  0.174665\n",
       "1  0.230443 -0.784472  0.084087\n",
       "2  0.910762 -0.294128 -0.194618\n",
       "3 -0.104642  0.085332 -1.162470"
      ]
     },
     "execution_count": 5,
     "metadata": {},
     "output_type": "execute_result"
    }
   ],
   "source": [
    "df"
   ]
  },
  {
   "cell_type": "code",
   "execution_count": 6,
   "id": "c3bd8f1f-3120-489c-a153-10df64793e4a",
   "metadata": {},
   "outputs": [
    {
     "data": {
      "text/plain": [
       "0    0.678673\n",
       "1    0.230443\n",
       "2    0.910762\n",
       "3   -0.104642\n",
       "Name: 0, dtype: float64"
      ]
     },
     "execution_count": 6,
     "metadata": {},
     "output_type": "execute_result"
    }
   ],
   "source": [
    "df[0]  # kolon olarak gelir"
   ]
  },
  {
   "cell_type": "code",
   "execution_count": 7,
   "id": "24a4d671-9183-4d0c-bce4-8d7aca278a6a",
   "metadata": {},
   "outputs": [
    {
     "data": {
      "text/plain": [
       "pandas.core.series.Series"
      ]
     },
     "execution_count": 7,
     "metadata": {},
     "output_type": "execute_result"
    }
   ],
   "source": [
    "type(df[0])"
   ]
  },
  {
   "cell_type": "code",
   "execution_count": 10,
   "id": "4b205747-1c09-4b2d-b29d-741636684e80",
   "metadata": {},
   "outputs": [],
   "source": [
    "df1 = pd.DataFrame( data , index = [\"Ayse\",\"Osman\",\"Arzu\",\"Omer\"], columns = [\"Maas\",\"Yas\",\"Calisma Saati\"])"
   ]
  },
  {
   "cell_type": "markdown",
   "id": "b2143d3c-4255-41f4-8e23-6ae63bac5cb1",
   "metadata": {},
   "source": [
    "# "
   ]
  },
  {
   "cell_type": "code",
   "execution_count": 11,
   "id": "2815072e-a32d-4aa0-bb85-0773767c5980",
   "metadata": {},
   "outputs": [
    {
     "data": {
      "text/html": [
       "<div>\n",
       "<style scoped>\n",
       "    .dataframe tbody tr th:only-of-type {\n",
       "        vertical-align: middle;\n",
       "    }\n",
       "\n",
       "    .dataframe tbody tr th {\n",
       "        vertical-align: top;\n",
       "    }\n",
       "\n",
       "    .dataframe thead th {\n",
       "        text-align: right;\n",
       "    }\n",
       "</style>\n",
       "<table border=\"1\" class=\"dataframe\">\n",
       "  <thead>\n",
       "    <tr style=\"text-align: right;\">\n",
       "      <th></th>\n",
       "      <th>Maas</th>\n",
       "      <th>Yas</th>\n",
       "      <th>Calisma Saati</th>\n",
       "    </tr>\n",
       "  </thead>\n",
       "  <tbody>\n",
       "    <tr>\n",
       "      <th>Ayse</th>\n",
       "      <td>0.678673</td>\n",
       "      <td>0.029058</td>\n",
       "      <td>0.174665</td>\n",
       "    </tr>\n",
       "    <tr>\n",
       "      <th>Osman</th>\n",
       "      <td>0.230443</td>\n",
       "      <td>-0.784472</td>\n",
       "      <td>0.084087</td>\n",
       "    </tr>\n",
       "    <tr>\n",
       "      <th>Arzu</th>\n",
       "      <td>0.910762</td>\n",
       "      <td>-0.294128</td>\n",
       "      <td>-0.194618</td>\n",
       "    </tr>\n",
       "    <tr>\n",
       "      <th>Omer</th>\n",
       "      <td>-0.104642</td>\n",
       "      <td>0.085332</td>\n",
       "      <td>-1.162470</td>\n",
       "    </tr>\n",
       "  </tbody>\n",
       "</table>\n",
       "</div>"
      ],
      "text/plain": [
       "           Maas       Yas  Calisma Saati\n",
       "Ayse   0.678673  0.029058       0.174665\n",
       "Osman  0.230443 -0.784472       0.084087\n",
       "Arzu   0.910762 -0.294128      -0.194618\n",
       "Omer  -0.104642  0.085332      -1.162470"
      ]
     },
     "execution_count": 11,
     "metadata": {},
     "output_type": "execute_result"
    }
   ],
   "source": [
    "df1"
   ]
  },
  {
   "cell_type": "code",
   "execution_count": 12,
   "id": "c94a6f71-717d-4194-92ab-ab791f5d0fe2",
   "metadata": {},
   "outputs": [
    {
     "data": {
      "text/plain": [
       "Ayse     0.029058\n",
       "Osman   -0.784472\n",
       "Arzu    -0.294128\n",
       "Omer     0.085332\n",
       "Name: Yas, dtype: float64"
      ]
     },
     "execution_count": 12,
     "metadata": {},
     "output_type": "execute_result"
    }
   ],
   "source": [
    "df1[\"Yas\"]"
   ]
  },
  {
   "cell_type": "code",
   "execution_count": 13,
   "id": "71dc74cb-d8c6-48b0-8f6d-9f10faebd2c6",
   "metadata": {},
   "outputs": [
    {
     "data": {
      "text/plain": [
       "Ayse     0.174665\n",
       "Osman    0.084087\n",
       "Arzu    -0.194618\n",
       "Omer    -1.162470\n",
       "Name: Calisma Saati, dtype: float64"
      ]
     },
     "execution_count": 13,
     "metadata": {},
     "output_type": "execute_result"
    }
   ],
   "source": [
    "df1[\"Calisma Saati\"]"
   ]
  },
  {
   "cell_type": "code",
   "execution_count": 14,
   "id": "3dc6afd7-9cf3-4b84-a23c-26c78d84beca",
   "metadata": {},
   "outputs": [
    {
     "data": {
      "text/html": [
       "<div>\n",
       "<style scoped>\n",
       "    .dataframe tbody tr th:only-of-type {\n",
       "        vertical-align: middle;\n",
       "    }\n",
       "\n",
       "    .dataframe tbody tr th {\n",
       "        vertical-align: top;\n",
       "    }\n",
       "\n",
       "    .dataframe thead th {\n",
       "        text-align: right;\n",
       "    }\n",
       "</style>\n",
       "<table border=\"1\" class=\"dataframe\">\n",
       "  <thead>\n",
       "    <tr style=\"text-align: right;\">\n",
       "      <th></th>\n",
       "      <th>Maas</th>\n",
       "      <th>Yas</th>\n",
       "    </tr>\n",
       "  </thead>\n",
       "  <tbody>\n",
       "    <tr>\n",
       "      <th>Ayse</th>\n",
       "      <td>0.678673</td>\n",
       "      <td>0.029058</td>\n",
       "    </tr>\n",
       "    <tr>\n",
       "      <th>Osman</th>\n",
       "      <td>0.230443</td>\n",
       "      <td>-0.784472</td>\n",
       "    </tr>\n",
       "    <tr>\n",
       "      <th>Arzu</th>\n",
       "      <td>0.910762</td>\n",
       "      <td>-0.294128</td>\n",
       "    </tr>\n",
       "    <tr>\n",
       "      <th>Omer</th>\n",
       "      <td>-0.104642</td>\n",
       "      <td>0.085332</td>\n",
       "    </tr>\n",
       "  </tbody>\n",
       "</table>\n",
       "</div>"
      ],
      "text/plain": [
       "           Maas       Yas\n",
       "Ayse   0.678673  0.029058\n",
       "Osman  0.230443 -0.784472\n",
       "Arzu   0.910762 -0.294128\n",
       "Omer  -0.104642  0.085332"
      ]
     },
     "execution_count": 14,
     "metadata": {},
     "output_type": "execute_result"
    }
   ],
   "source": [
    "df1[[\"Maas\",\"Yas\"]]"
   ]
  },
  {
   "cell_type": "code",
   "execution_count": 15,
   "id": "cfaa6555-0580-4b6e-a3ca-7a33c54570fe",
   "metadata": {},
   "outputs": [
    {
     "data": {
      "text/html": [
       "<div>\n",
       "<style scoped>\n",
       "    .dataframe tbody tr th:only-of-type {\n",
       "        vertical-align: middle;\n",
       "    }\n",
       "\n",
       "    .dataframe tbody tr th {\n",
       "        vertical-align: top;\n",
       "    }\n",
       "\n",
       "    .dataframe thead th {\n",
       "        text-align: right;\n",
       "    }\n",
       "</style>\n",
       "<table border=\"1\" class=\"dataframe\">\n",
       "  <thead>\n",
       "    <tr style=\"text-align: right;\">\n",
       "      <th></th>\n",
       "      <th>Maas</th>\n",
       "      <th>Yas</th>\n",
       "      <th>Calisma Saati</th>\n",
       "    </tr>\n",
       "  </thead>\n",
       "  <tbody>\n",
       "    <tr>\n",
       "      <th>Ayse</th>\n",
       "      <td>0.678673</td>\n",
       "      <td>0.029058</td>\n",
       "      <td>0.174665</td>\n",
       "    </tr>\n",
       "    <tr>\n",
       "      <th>Osman</th>\n",
       "      <td>0.230443</td>\n",
       "      <td>-0.784472</td>\n",
       "      <td>0.084087</td>\n",
       "    </tr>\n",
       "    <tr>\n",
       "      <th>Arzu</th>\n",
       "      <td>0.910762</td>\n",
       "      <td>-0.294128</td>\n",
       "      <td>-0.194618</td>\n",
       "    </tr>\n",
       "    <tr>\n",
       "      <th>Omer</th>\n",
       "      <td>-0.104642</td>\n",
       "      <td>0.085332</td>\n",
       "      <td>-1.162470</td>\n",
       "    </tr>\n",
       "  </tbody>\n",
       "</table>\n",
       "</div>"
      ],
      "text/plain": [
       "           Maas       Yas  Calisma Saati\n",
       "Ayse   0.678673  0.029058       0.174665\n",
       "Osman  0.230443 -0.784472       0.084087\n",
       "Arzu   0.910762 -0.294128      -0.194618\n",
       "Omer  -0.104642  0.085332      -1.162470"
      ]
     },
     "execution_count": 15,
     "metadata": {},
     "output_type": "execute_result"
    }
   ],
   "source": [
    "df1"
   ]
  },
  {
   "cell_type": "code",
   "execution_count": null,
   "id": "3d137474-35c6-44f6-8d8c-85efefb817dd",
   "metadata": {},
   "outputs": [],
   "source": [
    "df1[\"Ayse\"]"
   ]
  },
  {
   "cell_type": "code",
   "execution_count": 17,
   "id": "8ac0fbc2-9779-4405-88e6-80fd0bb383a8",
   "metadata": {},
   "outputs": [
    {
     "data": {
      "text/plain": [
       "Maas             0.678673\n",
       "Yas              0.029058\n",
       "Calisma Saati    0.174665\n",
       "Name: Ayse, dtype: float64"
      ]
     },
     "execution_count": 17,
     "metadata": {},
     "output_type": "execute_result"
    }
   ],
   "source": [
    "df1.loc[\"Ayse\"]   # satır ismiyle"
   ]
  },
  {
   "cell_type": "code",
   "execution_count": 18,
   "id": "479de09d-81b8-4cdb-acae-de40e63aef45",
   "metadata": {},
   "outputs": [
    {
     "data": {
      "text/plain": [
       "Maas             0.230443\n",
       "Yas             -0.784472\n",
       "Calisma Saati    0.084087\n",
       "Name: Osman, dtype: float64"
      ]
     },
     "execution_count": 18,
     "metadata": {},
     "output_type": "execute_result"
    }
   ],
   "source": [
    "df1.loc[\"Osman\"]"
   ]
  },
  {
   "cell_type": "code",
   "execution_count": 19,
   "id": "b37d6a5f-4a2c-43bf-af19-00a67c05cd4c",
   "metadata": {},
   "outputs": [
    {
     "data": {
      "text/plain": [
       "Maas             0.230443\n",
       "Yas             -0.784472\n",
       "Calisma Saati    0.084087\n",
       "Name: Osman, dtype: float64"
      ]
     },
     "execution_count": 19,
     "metadata": {},
     "output_type": "execute_result"
    }
   ],
   "source": [
    "df1.iloc[1]  # satır indeksi ile"
   ]
  },
  {
   "cell_type": "code",
   "execution_count": 20,
   "id": "64c5575d-90a6-4ff5-8a43-af97927b6b9d",
   "metadata": {},
   "outputs": [
    {
     "data": {
      "text/html": [
       "<div>\n",
       "<style scoped>\n",
       "    .dataframe tbody tr th:only-of-type {\n",
       "        vertical-align: middle;\n",
       "    }\n",
       "\n",
       "    .dataframe tbody tr th {\n",
       "        vertical-align: top;\n",
       "    }\n",
       "\n",
       "    .dataframe thead th {\n",
       "        text-align: right;\n",
       "    }\n",
       "</style>\n",
       "<table border=\"1\" class=\"dataframe\">\n",
       "  <thead>\n",
       "    <tr style=\"text-align: right;\">\n",
       "      <th></th>\n",
       "      <th>Maas</th>\n",
       "      <th>Yas</th>\n",
       "      <th>Calisma Saati</th>\n",
       "    </tr>\n",
       "  </thead>\n",
       "  <tbody>\n",
       "    <tr>\n",
       "      <th>Ayse</th>\n",
       "      <td>0.678673</td>\n",
       "      <td>0.029058</td>\n",
       "      <td>0.174665</td>\n",
       "    </tr>\n",
       "    <tr>\n",
       "      <th>Osman</th>\n",
       "      <td>0.230443</td>\n",
       "      <td>-0.784472</td>\n",
       "      <td>0.084087</td>\n",
       "    </tr>\n",
       "    <tr>\n",
       "      <th>Arzu</th>\n",
       "      <td>0.910762</td>\n",
       "      <td>-0.294128</td>\n",
       "      <td>-0.194618</td>\n",
       "    </tr>\n",
       "    <tr>\n",
       "      <th>Omer</th>\n",
       "      <td>-0.104642</td>\n",
       "      <td>0.085332</td>\n",
       "      <td>-1.162470</td>\n",
       "    </tr>\n",
       "  </tbody>\n",
       "</table>\n",
       "</div>"
      ],
      "text/plain": [
       "           Maas       Yas  Calisma Saati\n",
       "Ayse   0.678673  0.029058       0.174665\n",
       "Osman  0.230443 -0.784472       0.084087\n",
       "Arzu   0.910762 -0.294128      -0.194618\n",
       "Omer  -0.104642  0.085332      -1.162470"
      ]
     },
     "execution_count": 20,
     "metadata": {},
     "output_type": "execute_result"
    }
   ],
   "source": [
    "df1"
   ]
  },
  {
   "cell_type": "code",
   "execution_count": 21,
   "id": "df21ad29-950c-44ef-b3dd-37fdc4465f03",
   "metadata": {},
   "outputs": [],
   "source": [
    "df1[\"Emeklilik Yasi\"] = df1[\"Yas\"] + 60"
   ]
  },
  {
   "cell_type": "code",
   "execution_count": 22,
   "id": "18f11b6c-ad5c-42d2-b7ba-44da5d0d8f71",
   "metadata": {},
   "outputs": [
    {
     "data": {
      "text/html": [
       "<div>\n",
       "<style scoped>\n",
       "    .dataframe tbody tr th:only-of-type {\n",
       "        vertical-align: middle;\n",
       "    }\n",
       "\n",
       "    .dataframe tbody tr th {\n",
       "        vertical-align: top;\n",
       "    }\n",
       "\n",
       "    .dataframe thead th {\n",
       "        text-align: right;\n",
       "    }\n",
       "</style>\n",
       "<table border=\"1\" class=\"dataframe\">\n",
       "  <thead>\n",
       "    <tr style=\"text-align: right;\">\n",
       "      <th></th>\n",
       "      <th>Maas</th>\n",
       "      <th>Yas</th>\n",
       "      <th>Calisma Saati</th>\n",
       "      <th>Emeklilik Yasi</th>\n",
       "    </tr>\n",
       "  </thead>\n",
       "  <tbody>\n",
       "    <tr>\n",
       "      <th>Ayse</th>\n",
       "      <td>0.678673</td>\n",
       "      <td>0.029058</td>\n",
       "      <td>0.174665</td>\n",
       "      <td>60.029058</td>\n",
       "    </tr>\n",
       "    <tr>\n",
       "      <th>Osman</th>\n",
       "      <td>0.230443</td>\n",
       "      <td>-0.784472</td>\n",
       "      <td>0.084087</td>\n",
       "      <td>59.215528</td>\n",
       "    </tr>\n",
       "    <tr>\n",
       "      <th>Arzu</th>\n",
       "      <td>0.910762</td>\n",
       "      <td>-0.294128</td>\n",
       "      <td>-0.194618</td>\n",
       "      <td>59.705872</td>\n",
       "    </tr>\n",
       "    <tr>\n",
       "      <th>Omer</th>\n",
       "      <td>-0.104642</td>\n",
       "      <td>0.085332</td>\n",
       "      <td>-1.162470</td>\n",
       "      <td>60.085332</td>\n",
       "    </tr>\n",
       "  </tbody>\n",
       "</table>\n",
       "</div>"
      ],
      "text/plain": [
       "           Maas       Yas  Calisma Saati  Emeklilik Yasi\n",
       "Ayse   0.678673  0.029058       0.174665       60.029058\n",
       "Osman  0.230443 -0.784472       0.084087       59.215528\n",
       "Arzu   0.910762 -0.294128      -0.194618       59.705872\n",
       "Omer  -0.104642  0.085332      -1.162470       60.085332"
      ]
     },
     "execution_count": 22,
     "metadata": {},
     "output_type": "execute_result"
    }
   ],
   "source": [
    "df1"
   ]
  },
  {
   "cell_type": "code",
   "execution_count": 23,
   "id": "e49503b7-cb52-40c7-ba1a-4ebe89180ffa",
   "metadata": {},
   "outputs": [
    {
     "ename": "KeyError",
     "evalue": "\"['Emeklilik Yasi'] not found in axis\"",
     "output_type": "error",
     "traceback": [
      "\u001b[1;31m---------------------------------------------------------------------------\u001b[0m",
      "\u001b[1;31mKeyError\u001b[0m                                  Traceback (most recent call last)",
      "Cell \u001b[1;32mIn[23], line 1\u001b[0m\n\u001b[1;32m----> 1\u001b[0m \u001b[43mdf1\u001b[49m\u001b[38;5;241;43m.\u001b[39;49m\u001b[43mdrop\u001b[49m\u001b[43m(\u001b[49m\u001b[38;5;124;43m\"\u001b[39;49m\u001b[38;5;124;43mEmeklilik Yasi\u001b[39;49m\u001b[38;5;124;43m\"\u001b[39;49m\u001b[43m)\u001b[49m\n",
      "File \u001b[1;32mC:\\ProgramData\\anaconda3\\Lib\\site-packages\\pandas\\core\\frame.py:5581\u001b[0m, in \u001b[0;36mDataFrame.drop\u001b[1;34m(self, labels, axis, index, columns, level, inplace, errors)\u001b[0m\n\u001b[0;32m   5433\u001b[0m \u001b[38;5;28;01mdef\u001b[39;00m \u001b[38;5;21mdrop\u001b[39m(\n\u001b[0;32m   5434\u001b[0m     \u001b[38;5;28mself\u001b[39m,\n\u001b[0;32m   5435\u001b[0m     labels: IndexLabel \u001b[38;5;241m|\u001b[39m \u001b[38;5;28;01mNone\u001b[39;00m \u001b[38;5;241m=\u001b[39m \u001b[38;5;28;01mNone\u001b[39;00m,\n\u001b[1;32m   (...)\u001b[0m\n\u001b[0;32m   5442\u001b[0m     errors: IgnoreRaise \u001b[38;5;241m=\u001b[39m \u001b[38;5;124m\"\u001b[39m\u001b[38;5;124mraise\u001b[39m\u001b[38;5;124m\"\u001b[39m,\n\u001b[0;32m   5443\u001b[0m ) \u001b[38;5;241m-\u001b[39m\u001b[38;5;241m>\u001b[39m DataFrame \u001b[38;5;241m|\u001b[39m \u001b[38;5;28;01mNone\u001b[39;00m:\n\u001b[0;32m   5444\u001b[0m \u001b[38;5;250m    \u001b[39m\u001b[38;5;124;03m\"\"\"\u001b[39;00m\n\u001b[0;32m   5445\u001b[0m \u001b[38;5;124;03m    Drop specified labels from rows or columns.\u001b[39;00m\n\u001b[0;32m   5446\u001b[0m \n\u001b[1;32m   (...)\u001b[0m\n\u001b[0;32m   5579\u001b[0m \u001b[38;5;124;03m            weight  1.0     0.8\u001b[39;00m\n\u001b[0;32m   5580\u001b[0m \u001b[38;5;124;03m    \"\"\"\u001b[39;00m\n\u001b[1;32m-> 5581\u001b[0m     \u001b[38;5;28;01mreturn\u001b[39;00m \u001b[38;5;28;43msuper\u001b[39;49m\u001b[43m(\u001b[49m\u001b[43m)\u001b[49m\u001b[38;5;241;43m.\u001b[39;49m\u001b[43mdrop\u001b[49m\u001b[43m(\u001b[49m\n\u001b[0;32m   5582\u001b[0m \u001b[43m        \u001b[49m\u001b[43mlabels\u001b[49m\u001b[38;5;241;43m=\u001b[39;49m\u001b[43mlabels\u001b[49m\u001b[43m,\u001b[49m\n\u001b[0;32m   5583\u001b[0m \u001b[43m        \u001b[49m\u001b[43maxis\u001b[49m\u001b[38;5;241;43m=\u001b[39;49m\u001b[43maxis\u001b[49m\u001b[43m,\u001b[49m\n\u001b[0;32m   5584\u001b[0m \u001b[43m        \u001b[49m\u001b[43mindex\u001b[49m\u001b[38;5;241;43m=\u001b[39;49m\u001b[43mindex\u001b[49m\u001b[43m,\u001b[49m\n\u001b[0;32m   5585\u001b[0m \u001b[43m        \u001b[49m\u001b[43mcolumns\u001b[49m\u001b[38;5;241;43m=\u001b[39;49m\u001b[43mcolumns\u001b[49m\u001b[43m,\u001b[49m\n\u001b[0;32m   5586\u001b[0m \u001b[43m        \u001b[49m\u001b[43mlevel\u001b[49m\u001b[38;5;241;43m=\u001b[39;49m\u001b[43mlevel\u001b[49m\u001b[43m,\u001b[49m\n\u001b[0;32m   5587\u001b[0m \u001b[43m        \u001b[49m\u001b[43minplace\u001b[49m\u001b[38;5;241;43m=\u001b[39;49m\u001b[43minplace\u001b[49m\u001b[43m,\u001b[49m\n\u001b[0;32m   5588\u001b[0m \u001b[43m        \u001b[49m\u001b[43merrors\u001b[49m\u001b[38;5;241;43m=\u001b[39;49m\u001b[43merrors\u001b[49m\u001b[43m,\u001b[49m\n\u001b[0;32m   5589\u001b[0m \u001b[43m    \u001b[49m\u001b[43m)\u001b[49m\n",
      "File \u001b[1;32mC:\\ProgramData\\anaconda3\\Lib\\site-packages\\pandas\\core\\generic.py:4788\u001b[0m, in \u001b[0;36mNDFrame.drop\u001b[1;34m(self, labels, axis, index, columns, level, inplace, errors)\u001b[0m\n\u001b[0;32m   4786\u001b[0m \u001b[38;5;28;01mfor\u001b[39;00m axis, labels \u001b[38;5;129;01min\u001b[39;00m axes\u001b[38;5;241m.\u001b[39mitems():\n\u001b[0;32m   4787\u001b[0m     \u001b[38;5;28;01mif\u001b[39;00m labels \u001b[38;5;129;01mis\u001b[39;00m \u001b[38;5;129;01mnot\u001b[39;00m \u001b[38;5;28;01mNone\u001b[39;00m:\n\u001b[1;32m-> 4788\u001b[0m         obj \u001b[38;5;241m=\u001b[39m \u001b[43mobj\u001b[49m\u001b[38;5;241;43m.\u001b[39;49m\u001b[43m_drop_axis\u001b[49m\u001b[43m(\u001b[49m\u001b[43mlabels\u001b[49m\u001b[43m,\u001b[49m\u001b[43m \u001b[49m\u001b[43maxis\u001b[49m\u001b[43m,\u001b[49m\u001b[43m \u001b[49m\u001b[43mlevel\u001b[49m\u001b[38;5;241;43m=\u001b[39;49m\u001b[43mlevel\u001b[49m\u001b[43m,\u001b[49m\u001b[43m \u001b[49m\u001b[43merrors\u001b[49m\u001b[38;5;241;43m=\u001b[39;49m\u001b[43merrors\u001b[49m\u001b[43m)\u001b[49m\n\u001b[0;32m   4790\u001b[0m \u001b[38;5;28;01mif\u001b[39;00m inplace:\n\u001b[0;32m   4791\u001b[0m     \u001b[38;5;28mself\u001b[39m\u001b[38;5;241m.\u001b[39m_update_inplace(obj)\n",
      "File \u001b[1;32mC:\\ProgramData\\anaconda3\\Lib\\site-packages\\pandas\\core\\generic.py:4830\u001b[0m, in \u001b[0;36mNDFrame._drop_axis\u001b[1;34m(self, labels, axis, level, errors, only_slice)\u001b[0m\n\u001b[0;32m   4828\u001b[0m         new_axis \u001b[38;5;241m=\u001b[39m axis\u001b[38;5;241m.\u001b[39mdrop(labels, level\u001b[38;5;241m=\u001b[39mlevel, errors\u001b[38;5;241m=\u001b[39merrors)\n\u001b[0;32m   4829\u001b[0m     \u001b[38;5;28;01melse\u001b[39;00m:\n\u001b[1;32m-> 4830\u001b[0m         new_axis \u001b[38;5;241m=\u001b[39m \u001b[43maxis\u001b[49m\u001b[38;5;241;43m.\u001b[39;49m\u001b[43mdrop\u001b[49m\u001b[43m(\u001b[49m\u001b[43mlabels\u001b[49m\u001b[43m,\u001b[49m\u001b[43m \u001b[49m\u001b[43merrors\u001b[49m\u001b[38;5;241;43m=\u001b[39;49m\u001b[43merrors\u001b[49m\u001b[43m)\u001b[49m\n\u001b[0;32m   4831\u001b[0m     indexer \u001b[38;5;241m=\u001b[39m axis\u001b[38;5;241m.\u001b[39mget_indexer(new_axis)\n\u001b[0;32m   4833\u001b[0m \u001b[38;5;66;03m# Case for non-unique axis\u001b[39;00m\n\u001b[0;32m   4834\u001b[0m \u001b[38;5;28;01melse\u001b[39;00m:\n",
      "File \u001b[1;32mC:\\ProgramData\\anaconda3\\Lib\\site-packages\\pandas\\core\\indexes\\base.py:7070\u001b[0m, in \u001b[0;36mIndex.drop\u001b[1;34m(self, labels, errors)\u001b[0m\n\u001b[0;32m   7068\u001b[0m \u001b[38;5;28;01mif\u001b[39;00m mask\u001b[38;5;241m.\u001b[39many():\n\u001b[0;32m   7069\u001b[0m     \u001b[38;5;28;01mif\u001b[39;00m errors \u001b[38;5;241m!=\u001b[39m \u001b[38;5;124m\"\u001b[39m\u001b[38;5;124mignore\u001b[39m\u001b[38;5;124m\"\u001b[39m:\n\u001b[1;32m-> 7070\u001b[0m         \u001b[38;5;28;01mraise\u001b[39;00m \u001b[38;5;167;01mKeyError\u001b[39;00m(\u001b[38;5;124mf\u001b[39m\u001b[38;5;124m\"\u001b[39m\u001b[38;5;132;01m{\u001b[39;00mlabels[mask]\u001b[38;5;241m.\u001b[39mtolist()\u001b[38;5;132;01m}\u001b[39;00m\u001b[38;5;124m not found in axis\u001b[39m\u001b[38;5;124m\"\u001b[39m)\n\u001b[0;32m   7071\u001b[0m     indexer \u001b[38;5;241m=\u001b[39m indexer[\u001b[38;5;241m~\u001b[39mmask]\n\u001b[0;32m   7072\u001b[0m \u001b[38;5;28;01mreturn\u001b[39;00m \u001b[38;5;28mself\u001b[39m\u001b[38;5;241m.\u001b[39mdelete(indexer)\n",
      "\u001b[1;31mKeyError\u001b[0m: \"['Emeklilik Yasi'] not found in axis\""
     ]
    }
   ],
   "source": [
    "df1.drop(\"Emeklilik Yasi\")  # axis = 0 default hata verir, satırlarda yok çünkü"
   ]
  },
  {
   "cell_type": "code",
   "execution_count": 24,
   "id": "df9692ff-41b5-4707-b136-04cefda4aafd",
   "metadata": {},
   "outputs": [
    {
     "data": {
      "text/html": [
       "<div>\n",
       "<style scoped>\n",
       "    .dataframe tbody tr th:only-of-type {\n",
       "        vertical-align: middle;\n",
       "    }\n",
       "\n",
       "    .dataframe tbody tr th {\n",
       "        vertical-align: top;\n",
       "    }\n",
       "\n",
       "    .dataframe thead th {\n",
       "        text-align: right;\n",
       "    }\n",
       "</style>\n",
       "<table border=\"1\" class=\"dataframe\">\n",
       "  <thead>\n",
       "    <tr style=\"text-align: right;\">\n",
       "      <th></th>\n",
       "      <th>Maas</th>\n",
       "      <th>Yas</th>\n",
       "      <th>Calisma Saati</th>\n",
       "    </tr>\n",
       "  </thead>\n",
       "  <tbody>\n",
       "    <tr>\n",
       "      <th>Ayse</th>\n",
       "      <td>0.678673</td>\n",
       "      <td>0.029058</td>\n",
       "      <td>0.174665</td>\n",
       "    </tr>\n",
       "    <tr>\n",
       "      <th>Osman</th>\n",
       "      <td>0.230443</td>\n",
       "      <td>-0.784472</td>\n",
       "      <td>0.084087</td>\n",
       "    </tr>\n",
       "    <tr>\n",
       "      <th>Arzu</th>\n",
       "      <td>0.910762</td>\n",
       "      <td>-0.294128</td>\n",
       "      <td>-0.194618</td>\n",
       "    </tr>\n",
       "    <tr>\n",
       "      <th>Omer</th>\n",
       "      <td>-0.104642</td>\n",
       "      <td>0.085332</td>\n",
       "      <td>-1.162470</td>\n",
       "    </tr>\n",
       "  </tbody>\n",
       "</table>\n",
       "</div>"
      ],
      "text/plain": [
       "           Maas       Yas  Calisma Saati\n",
       "Ayse   0.678673  0.029058       0.174665\n",
       "Osman  0.230443 -0.784472       0.084087\n",
       "Arzu   0.910762 -0.294128      -0.194618\n",
       "Omer  -0.104642  0.085332      -1.162470"
      ]
     },
     "execution_count": 24,
     "metadata": {},
     "output_type": "execute_result"
    }
   ],
   "source": [
    "df1.drop(\"Emeklilik Yasi\", axis = 1)  # axis = 1 yazmalıyız, çünkü sütun"
   ]
  },
  {
   "cell_type": "code",
   "execution_count": 25,
   "id": "b9fc81f6-4d0f-4c1b-93fb-4ded58ac6548",
   "metadata": {},
   "outputs": [
    {
     "data": {
      "text/html": [
       "<div>\n",
       "<style scoped>\n",
       "    .dataframe tbody tr th:only-of-type {\n",
       "        vertical-align: middle;\n",
       "    }\n",
       "\n",
       "    .dataframe tbody tr th {\n",
       "        vertical-align: top;\n",
       "    }\n",
       "\n",
       "    .dataframe thead th {\n",
       "        text-align: right;\n",
       "    }\n",
       "</style>\n",
       "<table border=\"1\" class=\"dataframe\">\n",
       "  <thead>\n",
       "    <tr style=\"text-align: right;\">\n",
       "      <th></th>\n",
       "      <th>Maas</th>\n",
       "      <th>Yas</th>\n",
       "      <th>Calisma Saati</th>\n",
       "      <th>Emeklilik Yasi</th>\n",
       "    </tr>\n",
       "  </thead>\n",
       "  <tbody>\n",
       "    <tr>\n",
       "      <th>Ayse</th>\n",
       "      <td>0.678673</td>\n",
       "      <td>0.029058</td>\n",
       "      <td>0.174665</td>\n",
       "      <td>60.029058</td>\n",
       "    </tr>\n",
       "    <tr>\n",
       "      <th>Osman</th>\n",
       "      <td>0.230443</td>\n",
       "      <td>-0.784472</td>\n",
       "      <td>0.084087</td>\n",
       "      <td>59.215528</td>\n",
       "    </tr>\n",
       "    <tr>\n",
       "      <th>Arzu</th>\n",
       "      <td>0.910762</td>\n",
       "      <td>-0.294128</td>\n",
       "      <td>-0.194618</td>\n",
       "      <td>59.705872</td>\n",
       "    </tr>\n",
       "    <tr>\n",
       "      <th>Omer</th>\n",
       "      <td>-0.104642</td>\n",
       "      <td>0.085332</td>\n",
       "      <td>-1.162470</td>\n",
       "      <td>60.085332</td>\n",
       "    </tr>\n",
       "  </tbody>\n",
       "</table>\n",
       "</div>"
      ],
      "text/plain": [
       "           Maas       Yas  Calisma Saati  Emeklilik Yasi\n",
       "Ayse   0.678673  0.029058       0.174665       60.029058\n",
       "Osman  0.230443 -0.784472       0.084087       59.215528\n",
       "Arzu   0.910762 -0.294128      -0.194618       59.705872\n",
       "Omer  -0.104642  0.085332      -1.162470       60.085332"
      ]
     },
     "execution_count": 25,
     "metadata": {},
     "output_type": "execute_result"
    }
   ],
   "source": [
    "df1"
   ]
  },
  {
   "cell_type": "code",
   "execution_count": null,
   "id": "d37c2ebe-2ffd-4aa8-a46a-8e03c5ecb857",
   "metadata": {},
   "outputs": [],
   "source": [
    "df1.drop(\"Emeklilik Yasi\" , axis = 1 , inplace = True)"
   ]
  },
  {
   "cell_type": "code",
   "execution_count": 28,
   "id": "be343dc6-ddc8-4955-b466-40d43960ddef",
   "metadata": {},
   "outputs": [
    {
     "data": {
      "text/html": [
       "<div>\n",
       "<style scoped>\n",
       "    .dataframe tbody tr th:only-of-type {\n",
       "        vertical-align: middle;\n",
       "    }\n",
       "\n",
       "    .dataframe tbody tr th {\n",
       "        vertical-align: top;\n",
       "    }\n",
       "\n",
       "    .dataframe thead th {\n",
       "        text-align: right;\n",
       "    }\n",
       "</style>\n",
       "<table border=\"1\" class=\"dataframe\">\n",
       "  <thead>\n",
       "    <tr style=\"text-align: right;\">\n",
       "      <th></th>\n",
       "      <th>Maas</th>\n",
       "      <th>Yas</th>\n",
       "      <th>Calisma Saati</th>\n",
       "    </tr>\n",
       "  </thead>\n",
       "  <tbody>\n",
       "    <tr>\n",
       "      <th>Ayse</th>\n",
       "      <td>0.678673</td>\n",
       "      <td>0.029058</td>\n",
       "      <td>0.174665</td>\n",
       "    </tr>\n",
       "    <tr>\n",
       "      <th>Osman</th>\n",
       "      <td>0.230443</td>\n",
       "      <td>-0.784472</td>\n",
       "      <td>0.084087</td>\n",
       "    </tr>\n",
       "    <tr>\n",
       "      <th>Arzu</th>\n",
       "      <td>0.910762</td>\n",
       "      <td>-0.294128</td>\n",
       "      <td>-0.194618</td>\n",
       "    </tr>\n",
       "    <tr>\n",
       "      <th>Omer</th>\n",
       "      <td>-0.104642</td>\n",
       "      <td>0.085332</td>\n",
       "      <td>-1.162470</td>\n",
       "    </tr>\n",
       "  </tbody>\n",
       "</table>\n",
       "</div>"
      ],
      "text/plain": [
       "           Maas       Yas  Calisma Saati\n",
       "Ayse   0.678673  0.029058       0.174665\n",
       "Osman  0.230443 -0.784472       0.084087\n",
       "Arzu   0.910762 -0.294128      -0.194618\n",
       "Omer  -0.104642  0.085332      -1.162470"
      ]
     },
     "execution_count": 28,
     "metadata": {},
     "output_type": "execute_result"
    }
   ],
   "source": [
    "df1"
   ]
  },
  {
   "cell_type": "code",
   "execution_count": 29,
   "id": "6ebf5f9f-52e2-45c2-ae39-a990aba5c637",
   "metadata": {},
   "outputs": [
    {
     "data": {
      "text/plain": [
       "0.1746650632502418"
      ]
     },
     "execution_count": 29,
     "metadata": {},
     "output_type": "execute_result"
    }
   ],
   "source": [
    "df1.loc[\"Ayse\"][\"Calisma Saati\"]"
   ]
  },
  {
   "cell_type": "code",
   "execution_count": 30,
   "id": "8f50dd34",
   "metadata": {},
   "outputs": [
    {
     "data": {
      "text/plain": [
       "0.1746650632502418"
      ]
     },
     "execution_count": 30,
     "metadata": {},
     "output_type": "execute_result"
    }
   ],
   "source": [
    "df1.loc[\"Ayse\",\"Calisma Saati\"]"
   ]
  },
  {
   "cell_type": "code",
   "execution_count": 32,
   "id": "5ce2a9e9",
   "metadata": {},
   "outputs": [
    {
     "data": {
      "text/plain": [
       "-0.7844720796659083"
      ]
     },
     "execution_count": 32,
     "metadata": {},
     "output_type": "execute_result"
    }
   ],
   "source": [
    "df1.loc[\"Osman\"][\"Yas\"]"
   ]
  },
  {
   "cell_type": "code",
   "execution_count": 33,
   "id": "d6a36aec",
   "metadata": {},
   "outputs": [
    {
     "data": {
      "text/plain": [
       "-0.7844720796659083"
      ]
     },
     "execution_count": 33,
     "metadata": {},
     "output_type": "execute_result"
    }
   ],
   "source": [
    "df1.loc[\"Osman\" , \"Yas\"]"
   ]
  },
  {
   "cell_type": "code",
   "execution_count": 34,
   "id": "1bc67d0c-c6ac-4667-8579-de7328e2b969",
   "metadata": {},
   "outputs": [
    {
     "data": {
      "text/html": [
       "<div>\n",
       "<style scoped>\n",
       "    .dataframe tbody tr th:only-of-type {\n",
       "        vertical-align: middle;\n",
       "    }\n",
       "\n",
       "    .dataframe tbody tr th {\n",
       "        vertical-align: top;\n",
       "    }\n",
       "\n",
       "    .dataframe thead th {\n",
       "        text-align: right;\n",
       "    }\n",
       "</style>\n",
       "<table border=\"1\" class=\"dataframe\">\n",
       "  <thead>\n",
       "    <tr style=\"text-align: right;\">\n",
       "      <th></th>\n",
       "      <th>Maas</th>\n",
       "      <th>Yas</th>\n",
       "      <th>Calisma Saati</th>\n",
       "    </tr>\n",
       "  </thead>\n",
       "  <tbody>\n",
       "    <tr>\n",
       "      <th>Ayse</th>\n",
       "      <td>0.678673</td>\n",
       "      <td>0.029058</td>\n",
       "      <td>0.174665</td>\n",
       "    </tr>\n",
       "    <tr>\n",
       "      <th>Osman</th>\n",
       "      <td>0.230443</td>\n",
       "      <td>-0.784472</td>\n",
       "      <td>0.084087</td>\n",
       "    </tr>\n",
       "    <tr>\n",
       "      <th>Arzu</th>\n",
       "      <td>0.910762</td>\n",
       "      <td>-0.294128</td>\n",
       "      <td>-0.194618</td>\n",
       "    </tr>\n",
       "    <tr>\n",
       "      <th>Omer</th>\n",
       "      <td>-0.104642</td>\n",
       "      <td>0.085332</td>\n",
       "      <td>-1.162470</td>\n",
       "    </tr>\n",
       "  </tbody>\n",
       "</table>\n",
       "</div>"
      ],
      "text/plain": [
       "           Maas       Yas  Calisma Saati\n",
       "Ayse   0.678673  0.029058       0.174665\n",
       "Osman  0.230443 -0.784472       0.084087\n",
       "Arzu   0.910762 -0.294128      -0.194618\n",
       "Omer  -0.104642  0.085332      -1.162470"
      ]
     },
     "execution_count": 34,
     "metadata": {},
     "output_type": "execute_result"
    }
   ],
   "source": [
    "df1"
   ]
  },
  {
   "cell_type": "code",
   "execution_count": 35,
   "id": "5a453cf7",
   "metadata": {},
   "outputs": [
    {
     "data": {
      "text/html": [
       "<div>\n",
       "<style scoped>\n",
       "    .dataframe tbody tr th:only-of-type {\n",
       "        vertical-align: middle;\n",
       "    }\n",
       "\n",
       "    .dataframe tbody tr th {\n",
       "        vertical-align: top;\n",
       "    }\n",
       "\n",
       "    .dataframe thead th {\n",
       "        text-align: right;\n",
       "    }\n",
       "</style>\n",
       "<table border=\"1\" class=\"dataframe\">\n",
       "  <thead>\n",
       "    <tr style=\"text-align: right;\">\n",
       "      <th></th>\n",
       "      <th>Maas</th>\n",
       "      <th>Yas</th>\n",
       "      <th>Calisma Saati</th>\n",
       "    </tr>\n",
       "  </thead>\n",
       "  <tbody>\n",
       "    <tr>\n",
       "      <th>Ayse</th>\n",
       "      <td>False</td>\n",
       "      <td>False</td>\n",
       "      <td>False</td>\n",
       "    </tr>\n",
       "    <tr>\n",
       "      <th>Osman</th>\n",
       "      <td>False</td>\n",
       "      <td>True</td>\n",
       "      <td>False</td>\n",
       "    </tr>\n",
       "    <tr>\n",
       "      <th>Arzu</th>\n",
       "      <td>False</td>\n",
       "      <td>True</td>\n",
       "      <td>True</td>\n",
       "    </tr>\n",
       "    <tr>\n",
       "      <th>Omer</th>\n",
       "      <td>True</td>\n",
       "      <td>False</td>\n",
       "      <td>True</td>\n",
       "    </tr>\n",
       "  </tbody>\n",
       "</table>\n",
       "</div>"
      ],
      "text/plain": [
       "        Maas    Yas  Calisma Saati\n",
       "Ayse   False  False          False\n",
       "Osman  False   True          False\n",
       "Arzu   False   True           True\n",
       "Omer    True  False           True"
      ]
     },
     "execution_count": 35,
     "metadata": {},
     "output_type": "execute_result"
    }
   ],
   "source": [
    "df1 < 0"
   ]
  },
  {
   "cell_type": "code",
   "execution_count": 36,
   "id": "0ce98951-5105-4bf3-8300-60ba0ce45279",
   "metadata": {},
   "outputs": [],
   "source": [
    "df1Bool = df1 < 0"
   ]
  },
  {
   "cell_type": "code",
   "execution_count": 37,
   "id": "b2729189-fde3-4f03-9687-77346813b418",
   "metadata": {},
   "outputs": [
    {
     "data": {
      "text/html": [
       "<div>\n",
       "<style scoped>\n",
       "    .dataframe tbody tr th:only-of-type {\n",
       "        vertical-align: middle;\n",
       "    }\n",
       "\n",
       "    .dataframe tbody tr th {\n",
       "        vertical-align: top;\n",
       "    }\n",
       "\n",
       "    .dataframe thead th {\n",
       "        text-align: right;\n",
       "    }\n",
       "</style>\n",
       "<table border=\"1\" class=\"dataframe\">\n",
       "  <thead>\n",
       "    <tr style=\"text-align: right;\">\n",
       "      <th></th>\n",
       "      <th>Maas</th>\n",
       "      <th>Yas</th>\n",
       "      <th>Calisma Saati</th>\n",
       "    </tr>\n",
       "  </thead>\n",
       "  <tbody>\n",
       "    <tr>\n",
       "      <th>Ayse</th>\n",
       "      <td>False</td>\n",
       "      <td>False</td>\n",
       "      <td>False</td>\n",
       "    </tr>\n",
       "    <tr>\n",
       "      <th>Osman</th>\n",
       "      <td>False</td>\n",
       "      <td>True</td>\n",
       "      <td>False</td>\n",
       "    </tr>\n",
       "    <tr>\n",
       "      <th>Arzu</th>\n",
       "      <td>False</td>\n",
       "      <td>True</td>\n",
       "      <td>True</td>\n",
       "    </tr>\n",
       "    <tr>\n",
       "      <th>Omer</th>\n",
       "      <td>True</td>\n",
       "      <td>False</td>\n",
       "      <td>True</td>\n",
       "    </tr>\n",
       "  </tbody>\n",
       "</table>\n",
       "</div>"
      ],
      "text/plain": [
       "        Maas    Yas  Calisma Saati\n",
       "Ayse   False  False          False\n",
       "Osman  False   True          False\n",
       "Arzu   False   True           True\n",
       "Omer    True  False           True"
      ]
     },
     "execution_count": 37,
     "metadata": {},
     "output_type": "execute_result"
    }
   ],
   "source": [
    "df1Bool"
   ]
  },
  {
   "cell_type": "code",
   "execution_count": 38,
   "id": "a4f1c5f8-fc3b-4346-9e62-f0e675397c1d",
   "metadata": {},
   "outputs": [
    {
     "data": {
      "text/html": [
       "<div>\n",
       "<style scoped>\n",
       "    .dataframe tbody tr th:only-of-type {\n",
       "        vertical-align: middle;\n",
       "    }\n",
       "\n",
       "    .dataframe tbody tr th {\n",
       "        vertical-align: top;\n",
       "    }\n",
       "\n",
       "    .dataframe thead th {\n",
       "        text-align: right;\n",
       "    }\n",
       "</style>\n",
       "<table border=\"1\" class=\"dataframe\">\n",
       "  <thead>\n",
       "    <tr style=\"text-align: right;\">\n",
       "      <th></th>\n",
       "      <th>Maas</th>\n",
       "      <th>Yas</th>\n",
       "      <th>Calisma Saati</th>\n",
       "    </tr>\n",
       "  </thead>\n",
       "  <tbody>\n",
       "    <tr>\n",
       "      <th>Ayse</th>\n",
       "      <td>NaN</td>\n",
       "      <td>NaN</td>\n",
       "      <td>NaN</td>\n",
       "    </tr>\n",
       "    <tr>\n",
       "      <th>Osman</th>\n",
       "      <td>NaN</td>\n",
       "      <td>-0.784472</td>\n",
       "      <td>NaN</td>\n",
       "    </tr>\n",
       "    <tr>\n",
       "      <th>Arzu</th>\n",
       "      <td>NaN</td>\n",
       "      <td>-0.294128</td>\n",
       "      <td>-0.194618</td>\n",
       "    </tr>\n",
       "    <tr>\n",
       "      <th>Omer</th>\n",
       "      <td>-0.104642</td>\n",
       "      <td>NaN</td>\n",
       "      <td>-1.162470</td>\n",
       "    </tr>\n",
       "  </tbody>\n",
       "</table>\n",
       "</div>"
      ],
      "text/plain": [
       "           Maas       Yas  Calisma Saati\n",
       "Ayse        NaN       NaN            NaN\n",
       "Osman       NaN -0.784472            NaN\n",
       "Arzu        NaN -0.294128      -0.194618\n",
       "Omer  -0.104642       NaN      -1.162470"
      ]
     },
     "execution_count": 38,
     "metadata": {},
     "output_type": "execute_result"
    }
   ],
   "source": [
    "df1[df1Bool]"
   ]
  },
  {
   "cell_type": "code",
   "execution_count": 39,
   "id": "aee0a198-99de-4ad3-94d7-e0feed73a0ef",
   "metadata": {},
   "outputs": [
    {
     "data": {
      "text/html": [
       "<div>\n",
       "<style scoped>\n",
       "    .dataframe tbody tr th:only-of-type {\n",
       "        vertical-align: middle;\n",
       "    }\n",
       "\n",
       "    .dataframe tbody tr th {\n",
       "        vertical-align: top;\n",
       "    }\n",
       "\n",
       "    .dataframe thead th {\n",
       "        text-align: right;\n",
       "    }\n",
       "</style>\n",
       "<table border=\"1\" class=\"dataframe\">\n",
       "  <thead>\n",
       "    <tr style=\"text-align: right;\">\n",
       "      <th></th>\n",
       "      <th>Maas</th>\n",
       "      <th>Yas</th>\n",
       "      <th>Calisma Saati</th>\n",
       "    </tr>\n",
       "  </thead>\n",
       "  <tbody>\n",
       "    <tr>\n",
       "      <th>Ayse</th>\n",
       "      <td>NaN</td>\n",
       "      <td>NaN</td>\n",
       "      <td>NaN</td>\n",
       "    </tr>\n",
       "    <tr>\n",
       "      <th>Osman</th>\n",
       "      <td>NaN</td>\n",
       "      <td>-0.784472</td>\n",
       "      <td>NaN</td>\n",
       "    </tr>\n",
       "    <tr>\n",
       "      <th>Arzu</th>\n",
       "      <td>NaN</td>\n",
       "      <td>-0.294128</td>\n",
       "      <td>-0.194618</td>\n",
       "    </tr>\n",
       "    <tr>\n",
       "      <th>Omer</th>\n",
       "      <td>-0.104642</td>\n",
       "      <td>NaN</td>\n",
       "      <td>-1.162470</td>\n",
       "    </tr>\n",
       "  </tbody>\n",
       "</table>\n",
       "</div>"
      ],
      "text/plain": [
       "           Maas       Yas  Calisma Saati\n",
       "Ayse        NaN       NaN            NaN\n",
       "Osman       NaN -0.784472            NaN\n",
       "Arzu        NaN -0.294128      -0.194618\n",
       "Omer  -0.104642       NaN      -1.162470"
      ]
     },
     "execution_count": 39,
     "metadata": {},
     "output_type": "execute_result"
    }
   ],
   "source": [
    "df1[df1 < 0]"
   ]
  },
  {
   "cell_type": "code",
   "execution_count": 41,
   "id": "bb62183b-ca73-4da4-9b3a-3a44bef0e340",
   "metadata": {},
   "outputs": [
    {
     "data": {
      "text/plain": [
       "Ayse      True\n",
       "Osman    False\n",
       "Arzu     False\n",
       "Omer      True\n",
       "Name: Yas, dtype: bool"
      ]
     },
     "execution_count": 41,
     "metadata": {},
     "output_type": "execute_result"
    }
   ],
   "source": [
    "df1[\"Yas\"] > 0"
   ]
  },
  {
   "cell_type": "code",
   "execution_count": 43,
   "id": "8e558485-cd6b-45cf-b1ef-4cc6421af135",
   "metadata": {},
   "outputs": [
    {
     "data": {
      "text/html": [
       "<div>\n",
       "<style scoped>\n",
       "    .dataframe tbody tr th:only-of-type {\n",
       "        vertical-align: middle;\n",
       "    }\n",
       "\n",
       "    .dataframe tbody tr th {\n",
       "        vertical-align: top;\n",
       "    }\n",
       "\n",
       "    .dataframe thead th {\n",
       "        text-align: right;\n",
       "    }\n",
       "</style>\n",
       "<table border=\"1\" class=\"dataframe\">\n",
       "  <thead>\n",
       "    <tr style=\"text-align: right;\">\n",
       "      <th></th>\n",
       "      <th>Maas</th>\n",
       "      <th>Yas</th>\n",
       "      <th>Calisma Saati</th>\n",
       "    </tr>\n",
       "  </thead>\n",
       "  <tbody>\n",
       "    <tr>\n",
       "      <th>Ayse</th>\n",
       "      <td>0.678673</td>\n",
       "      <td>0.029058</td>\n",
       "      <td>0.174665</td>\n",
       "    </tr>\n",
       "    <tr>\n",
       "      <th>Omer</th>\n",
       "      <td>-0.104642</td>\n",
       "      <td>0.085332</td>\n",
       "      <td>-1.162470</td>\n",
       "    </tr>\n",
       "  </tbody>\n",
       "</table>\n",
       "</div>"
      ],
      "text/plain": [
       "          Maas       Yas  Calisma Saati\n",
       "Ayse  0.678673  0.029058       0.174665\n",
       "Omer -0.104642  0.085332      -1.162470"
      ]
     },
     "execution_count": 43,
     "metadata": {},
     "output_type": "execute_result"
    }
   ],
   "source": [
    "df1[df1[\"Yas\"] > 0]"
   ]
  },
  {
   "cell_type": "code",
   "execution_count": 44,
   "id": "820ec2f1",
   "metadata": {},
   "outputs": [
    {
     "data": {
      "text/html": [
       "<div>\n",
       "<style scoped>\n",
       "    .dataframe tbody tr th:only-of-type {\n",
       "        vertical-align: middle;\n",
       "    }\n",
       "\n",
       "    .dataframe tbody tr th {\n",
       "        vertical-align: top;\n",
       "    }\n",
       "\n",
       "    .dataframe thead th {\n",
       "        text-align: right;\n",
       "    }\n",
       "</style>\n",
       "<table border=\"1\" class=\"dataframe\">\n",
       "  <thead>\n",
       "    <tr style=\"text-align: right;\">\n",
       "      <th></th>\n",
       "      <th>Maas</th>\n",
       "      <th>Yas</th>\n",
       "      <th>Calisma Saati</th>\n",
       "    </tr>\n",
       "  </thead>\n",
       "  <tbody>\n",
       "    <tr>\n",
       "      <th>Ayse</th>\n",
       "      <td>0.678673</td>\n",
       "      <td>0.029058</td>\n",
       "      <td>0.174665</td>\n",
       "    </tr>\n",
       "    <tr>\n",
       "      <th>Osman</th>\n",
       "      <td>0.230443</td>\n",
       "      <td>-0.784472</td>\n",
       "      <td>0.084087</td>\n",
       "    </tr>\n",
       "  </tbody>\n",
       "</table>\n",
       "</div>"
      ],
      "text/plain": [
       "           Maas       Yas  Calisma Saati\n",
       "Ayse   0.678673  0.029058       0.174665\n",
       "Osman  0.230443 -0.784472       0.084087"
      ]
     },
     "execution_count": 44,
     "metadata": {},
     "output_type": "execute_result"
    }
   ],
   "source": [
    "df1[df1[\"Calisma Saati\"] > 0]"
   ]
  },
  {
   "cell_type": "code",
   "execution_count": 45,
   "id": "f6058e1b-4517-46cd-9998-ae47285b90ab",
   "metadata": {},
   "outputs": [
    {
     "data": {
      "text/html": [
       "<div>\n",
       "<style scoped>\n",
       "    .dataframe tbody tr th:only-of-type {\n",
       "        vertical-align: middle;\n",
       "    }\n",
       "\n",
       "    .dataframe tbody tr th {\n",
       "        vertical-align: top;\n",
       "    }\n",
       "\n",
       "    .dataframe thead th {\n",
       "        text-align: right;\n",
       "    }\n",
       "</style>\n",
       "<table border=\"1\" class=\"dataframe\">\n",
       "  <thead>\n",
       "    <tr style=\"text-align: right;\">\n",
       "      <th></th>\n",
       "      <th>Maas</th>\n",
       "      <th>Yas</th>\n",
       "      <th>Calisma Saati</th>\n",
       "    </tr>\n",
       "  </thead>\n",
       "  <tbody>\n",
       "    <tr>\n",
       "      <th>Ayse</th>\n",
       "      <td>0.678673</td>\n",
       "      <td>0.029058</td>\n",
       "      <td>0.174665</td>\n",
       "    </tr>\n",
       "    <tr>\n",
       "      <th>Osman</th>\n",
       "      <td>0.230443</td>\n",
       "      <td>-0.784472</td>\n",
       "      <td>0.084087</td>\n",
       "    </tr>\n",
       "    <tr>\n",
       "      <th>Arzu</th>\n",
       "      <td>0.910762</td>\n",
       "      <td>-0.294128</td>\n",
       "      <td>-0.194618</td>\n",
       "    </tr>\n",
       "    <tr>\n",
       "      <th>Omer</th>\n",
       "      <td>-0.104642</td>\n",
       "      <td>0.085332</td>\n",
       "      <td>-1.162470</td>\n",
       "    </tr>\n",
       "  </tbody>\n",
       "</table>\n",
       "</div>"
      ],
      "text/plain": [
       "           Maas       Yas  Calisma Saati\n",
       "Ayse   0.678673  0.029058       0.174665\n",
       "Osman  0.230443 -0.784472       0.084087\n",
       "Arzu   0.910762 -0.294128      -0.194618\n",
       "Omer  -0.104642  0.085332      -1.162470"
      ]
     },
     "execution_count": 45,
     "metadata": {},
     "output_type": "execute_result"
    }
   ],
   "source": [
    "df1"
   ]
  },
  {
   "cell_type": "code",
   "execution_count": 46,
   "id": "bd39702c-53cf-43e4-919b-c18001a21ef2",
   "metadata": {},
   "outputs": [
    {
     "data": {
      "text/html": [
       "<div>\n",
       "<style scoped>\n",
       "    .dataframe tbody tr th:only-of-type {\n",
       "        vertical-align: middle;\n",
       "    }\n",
       "\n",
       "    .dataframe tbody tr th {\n",
       "        vertical-align: top;\n",
       "    }\n",
       "\n",
       "    .dataframe thead th {\n",
       "        text-align: right;\n",
       "    }\n",
       "</style>\n",
       "<table border=\"1\" class=\"dataframe\">\n",
       "  <thead>\n",
       "    <tr style=\"text-align: right;\">\n",
       "      <th></th>\n",
       "      <th>index</th>\n",
       "      <th>Maas</th>\n",
       "      <th>Yas</th>\n",
       "      <th>Calisma Saati</th>\n",
       "    </tr>\n",
       "  </thead>\n",
       "  <tbody>\n",
       "    <tr>\n",
       "      <th>0</th>\n",
       "      <td>Ayse</td>\n",
       "      <td>0.678673</td>\n",
       "      <td>0.029058</td>\n",
       "      <td>0.174665</td>\n",
       "    </tr>\n",
       "    <tr>\n",
       "      <th>1</th>\n",
       "      <td>Osman</td>\n",
       "      <td>0.230443</td>\n",
       "      <td>-0.784472</td>\n",
       "      <td>0.084087</td>\n",
       "    </tr>\n",
       "    <tr>\n",
       "      <th>2</th>\n",
       "      <td>Arzu</td>\n",
       "      <td>0.910762</td>\n",
       "      <td>-0.294128</td>\n",
       "      <td>-0.194618</td>\n",
       "    </tr>\n",
       "    <tr>\n",
       "      <th>3</th>\n",
       "      <td>Omer</td>\n",
       "      <td>-0.104642</td>\n",
       "      <td>0.085332</td>\n",
       "      <td>-1.162470</td>\n",
       "    </tr>\n",
       "  </tbody>\n",
       "</table>\n",
       "</div>"
      ],
      "text/plain": [
       "   index      Maas       Yas  Calisma Saati\n",
       "0   Ayse  0.678673  0.029058       0.174665\n",
       "1  Osman  0.230443 -0.784472       0.084087\n",
       "2   Arzu  0.910762 -0.294128      -0.194618\n",
       "3   Omer -0.104642  0.085332      -1.162470"
      ]
     },
     "execution_count": 46,
     "metadata": {},
     "output_type": "execute_result"
    }
   ],
   "source": [
    "df1.reset_index()"
   ]
  },
  {
   "cell_type": "code",
   "execution_count": 47,
   "id": "04af7364-3536-4188-92d8-d87ad8a4fb73",
   "metadata": {},
   "outputs": [
    {
     "data": {
      "text/html": [
       "<div>\n",
       "<style scoped>\n",
       "    .dataframe tbody tr th:only-of-type {\n",
       "        vertical-align: middle;\n",
       "    }\n",
       "\n",
       "    .dataframe tbody tr th {\n",
       "        vertical-align: top;\n",
       "    }\n",
       "\n",
       "    .dataframe thead th {\n",
       "        text-align: right;\n",
       "    }\n",
       "</style>\n",
       "<table border=\"1\" class=\"dataframe\">\n",
       "  <thead>\n",
       "    <tr style=\"text-align: right;\">\n",
       "      <th></th>\n",
       "      <th>Maas</th>\n",
       "      <th>Yas</th>\n",
       "      <th>Calisma Saati</th>\n",
       "    </tr>\n",
       "  </thead>\n",
       "  <tbody>\n",
       "    <tr>\n",
       "      <th>Ayse</th>\n",
       "      <td>0.678673</td>\n",
       "      <td>0.029058</td>\n",
       "      <td>0.174665</td>\n",
       "    </tr>\n",
       "    <tr>\n",
       "      <th>Osman</th>\n",
       "      <td>0.230443</td>\n",
       "      <td>-0.784472</td>\n",
       "      <td>0.084087</td>\n",
       "    </tr>\n",
       "    <tr>\n",
       "      <th>Arzu</th>\n",
       "      <td>0.910762</td>\n",
       "      <td>-0.294128</td>\n",
       "      <td>-0.194618</td>\n",
       "    </tr>\n",
       "    <tr>\n",
       "      <th>Omer</th>\n",
       "      <td>-0.104642</td>\n",
       "      <td>0.085332</td>\n",
       "      <td>-1.162470</td>\n",
       "    </tr>\n",
       "  </tbody>\n",
       "</table>\n",
       "</div>"
      ],
      "text/plain": [
       "           Maas       Yas  Calisma Saati\n",
       "Ayse   0.678673  0.029058       0.174665\n",
       "Osman  0.230443 -0.784472       0.084087\n",
       "Arzu   0.910762 -0.294128      -0.194618\n",
       "Omer  -0.104642  0.085332      -1.162470"
      ]
     },
     "execution_count": 47,
     "metadata": {},
     "output_type": "execute_result"
    }
   ],
   "source": [
    "df1"
   ]
  },
  {
   "cell_type": "code",
   "execution_count": 48,
   "id": "7889f1b3-272c-4c73-b3be-b1ed76e5b85c",
   "metadata": {},
   "outputs": [],
   "source": [
    "indexList = [\"Ay\",\"Os\",\"Ar\",\"Om\"]"
   ]
  },
  {
   "cell_type": "code",
   "execution_count": 49,
   "id": "a8098710-de60-454b-a2d4-e4a934f62569",
   "metadata": {},
   "outputs": [],
   "source": [
    "df1[\"Yeni index\"] = indexList"
   ]
  },
  {
   "cell_type": "code",
   "execution_count": 50,
   "id": "6a25ed07-754e-406f-b978-fc7d5442245d",
   "metadata": {},
   "outputs": [
    {
     "data": {
      "text/html": [
       "<div>\n",
       "<style scoped>\n",
       "    .dataframe tbody tr th:only-of-type {\n",
       "        vertical-align: middle;\n",
       "    }\n",
       "\n",
       "    .dataframe tbody tr th {\n",
       "        vertical-align: top;\n",
       "    }\n",
       "\n",
       "    .dataframe thead th {\n",
       "        text-align: right;\n",
       "    }\n",
       "</style>\n",
       "<table border=\"1\" class=\"dataframe\">\n",
       "  <thead>\n",
       "    <tr style=\"text-align: right;\">\n",
       "      <th></th>\n",
       "      <th>Maas</th>\n",
       "      <th>Yas</th>\n",
       "      <th>Calisma Saati</th>\n",
       "      <th>Yeni index</th>\n",
       "    </tr>\n",
       "  </thead>\n",
       "  <tbody>\n",
       "    <tr>\n",
       "      <th>Ayse</th>\n",
       "      <td>0.678673</td>\n",
       "      <td>0.029058</td>\n",
       "      <td>0.174665</td>\n",
       "      <td>Ay</td>\n",
       "    </tr>\n",
       "    <tr>\n",
       "      <th>Osman</th>\n",
       "      <td>0.230443</td>\n",
       "      <td>-0.784472</td>\n",
       "      <td>0.084087</td>\n",
       "      <td>Os</td>\n",
       "    </tr>\n",
       "    <tr>\n",
       "      <th>Arzu</th>\n",
       "      <td>0.910762</td>\n",
       "      <td>-0.294128</td>\n",
       "      <td>-0.194618</td>\n",
       "      <td>Ar</td>\n",
       "    </tr>\n",
       "    <tr>\n",
       "      <th>Omer</th>\n",
       "      <td>-0.104642</td>\n",
       "      <td>0.085332</td>\n",
       "      <td>-1.162470</td>\n",
       "      <td>Om</td>\n",
       "    </tr>\n",
       "  </tbody>\n",
       "</table>\n",
       "</div>"
      ],
      "text/plain": [
       "           Maas       Yas  Calisma Saati Yeni index\n",
       "Ayse   0.678673  0.029058       0.174665         Ay\n",
       "Osman  0.230443 -0.784472       0.084087         Os\n",
       "Arzu   0.910762 -0.294128      -0.194618         Ar\n",
       "Omer  -0.104642  0.085332      -1.162470         Om"
      ]
     },
     "execution_count": 50,
     "metadata": {},
     "output_type": "execute_result"
    }
   ],
   "source": [
    "df1"
   ]
  },
  {
   "cell_type": "code",
   "execution_count": 52,
   "id": "97776521-9096-4c21-9f4f-866f70b602da",
   "metadata": {},
   "outputs": [
    {
     "data": {
      "text/html": [
       "<div>\n",
       "<style scoped>\n",
       "    .dataframe tbody tr th:only-of-type {\n",
       "        vertical-align: middle;\n",
       "    }\n",
       "\n",
       "    .dataframe tbody tr th {\n",
       "        vertical-align: top;\n",
       "    }\n",
       "\n",
       "    .dataframe thead th {\n",
       "        text-align: right;\n",
       "    }\n",
       "</style>\n",
       "<table border=\"1\" class=\"dataframe\">\n",
       "  <thead>\n",
       "    <tr style=\"text-align: right;\">\n",
       "      <th></th>\n",
       "      <th>Maas</th>\n",
       "      <th>Yas</th>\n",
       "      <th>Calisma Saati</th>\n",
       "    </tr>\n",
       "    <tr>\n",
       "      <th>Yeni index</th>\n",
       "      <th></th>\n",
       "      <th></th>\n",
       "      <th></th>\n",
       "    </tr>\n",
       "  </thead>\n",
       "  <tbody>\n",
       "    <tr>\n",
       "      <th>Ay</th>\n",
       "      <td>0.678673</td>\n",
       "      <td>0.029058</td>\n",
       "      <td>0.174665</td>\n",
       "    </tr>\n",
       "    <tr>\n",
       "      <th>Os</th>\n",
       "      <td>0.230443</td>\n",
       "      <td>-0.784472</td>\n",
       "      <td>0.084087</td>\n",
       "    </tr>\n",
       "    <tr>\n",
       "      <th>Ar</th>\n",
       "      <td>0.910762</td>\n",
       "      <td>-0.294128</td>\n",
       "      <td>-0.194618</td>\n",
       "    </tr>\n",
       "    <tr>\n",
       "      <th>Om</th>\n",
       "      <td>-0.104642</td>\n",
       "      <td>0.085332</td>\n",
       "      <td>-1.162470</td>\n",
       "    </tr>\n",
       "  </tbody>\n",
       "</table>\n",
       "</div>"
      ],
      "text/plain": [
       "                Maas       Yas  Calisma Saati\n",
       "Yeni index                                   \n",
       "Ay          0.678673  0.029058       0.174665\n",
       "Os          0.230443 -0.784472       0.084087\n",
       "Ar          0.910762 -0.294128      -0.194618\n",
       "Om         -0.104642  0.085332      -1.162470"
      ]
     },
     "execution_count": 52,
     "metadata": {},
     "output_type": "execute_result"
    }
   ],
   "source": [
    "df1.set_index(\"Yeni index\")"
   ]
  },
  {
   "cell_type": "code",
   "execution_count": 53,
   "id": "7bef0acb-132f-464c-bbc7-4a398566a330",
   "metadata": {},
   "outputs": [
    {
     "data": {
      "text/html": [
       "<div>\n",
       "<style scoped>\n",
       "    .dataframe tbody tr th:only-of-type {\n",
       "        vertical-align: middle;\n",
       "    }\n",
       "\n",
       "    .dataframe tbody tr th {\n",
       "        vertical-align: top;\n",
       "    }\n",
       "\n",
       "    .dataframe thead th {\n",
       "        text-align: right;\n",
       "    }\n",
       "</style>\n",
       "<table border=\"1\" class=\"dataframe\">\n",
       "  <thead>\n",
       "    <tr style=\"text-align: right;\">\n",
       "      <th></th>\n",
       "      <th>Maas</th>\n",
       "      <th>Yas</th>\n",
       "      <th>Calisma Saati</th>\n",
       "      <th>Yeni index</th>\n",
       "    </tr>\n",
       "  </thead>\n",
       "  <tbody>\n",
       "    <tr>\n",
       "      <th>Ayse</th>\n",
       "      <td>0.678673</td>\n",
       "      <td>0.029058</td>\n",
       "      <td>0.174665</td>\n",
       "      <td>Ay</td>\n",
       "    </tr>\n",
       "    <tr>\n",
       "      <th>Osman</th>\n",
       "      <td>0.230443</td>\n",
       "      <td>-0.784472</td>\n",
       "      <td>0.084087</td>\n",
       "      <td>Os</td>\n",
       "    </tr>\n",
       "    <tr>\n",
       "      <th>Arzu</th>\n",
       "      <td>0.910762</td>\n",
       "      <td>-0.294128</td>\n",
       "      <td>-0.194618</td>\n",
       "      <td>Ar</td>\n",
       "    </tr>\n",
       "    <tr>\n",
       "      <th>Omer</th>\n",
       "      <td>-0.104642</td>\n",
       "      <td>0.085332</td>\n",
       "      <td>-1.162470</td>\n",
       "      <td>Om</td>\n",
       "    </tr>\n",
       "  </tbody>\n",
       "</table>\n",
       "</div>"
      ],
      "text/plain": [
       "           Maas       Yas  Calisma Saati Yeni index\n",
       "Ayse   0.678673  0.029058       0.174665         Ay\n",
       "Osman  0.230443 -0.784472       0.084087         Os\n",
       "Arzu   0.910762 -0.294128      -0.194618         Ar\n",
       "Omer  -0.104642  0.085332      -1.162470         Om"
      ]
     },
     "execution_count": 53,
     "metadata": {},
     "output_type": "execute_result"
    }
   ],
   "source": [
    "df1"
   ]
  },
  {
   "cell_type": "code",
   "execution_count": 54,
   "id": "e51fee43-cb12-4fb9-a317-1dc209a43336",
   "metadata": {},
   "outputs": [],
   "source": [
    "df1.set_index(\"Yeni index\", inplace = True)"
   ]
  },
  {
   "cell_type": "code",
   "execution_count": 55,
   "id": "5c7a4867-e792-4a39-9070-ee16e6f01e6a",
   "metadata": {},
   "outputs": [
    {
     "data": {
      "text/html": [
       "<div>\n",
       "<style scoped>\n",
       "    .dataframe tbody tr th:only-of-type {\n",
       "        vertical-align: middle;\n",
       "    }\n",
       "\n",
       "    .dataframe tbody tr th {\n",
       "        vertical-align: top;\n",
       "    }\n",
       "\n",
       "    .dataframe thead th {\n",
       "        text-align: right;\n",
       "    }\n",
       "</style>\n",
       "<table border=\"1\" class=\"dataframe\">\n",
       "  <thead>\n",
       "    <tr style=\"text-align: right;\">\n",
       "      <th></th>\n",
       "      <th>Maas</th>\n",
       "      <th>Yas</th>\n",
       "      <th>Calisma Saati</th>\n",
       "    </tr>\n",
       "    <tr>\n",
       "      <th>Yeni index</th>\n",
       "      <th></th>\n",
       "      <th></th>\n",
       "      <th></th>\n",
       "    </tr>\n",
       "  </thead>\n",
       "  <tbody>\n",
       "    <tr>\n",
       "      <th>Ay</th>\n",
       "      <td>0.678673</td>\n",
       "      <td>0.029058</td>\n",
       "      <td>0.174665</td>\n",
       "    </tr>\n",
       "    <tr>\n",
       "      <th>Os</th>\n",
       "      <td>0.230443</td>\n",
       "      <td>-0.784472</td>\n",
       "      <td>0.084087</td>\n",
       "    </tr>\n",
       "    <tr>\n",
       "      <th>Ar</th>\n",
       "      <td>0.910762</td>\n",
       "      <td>-0.294128</td>\n",
       "      <td>-0.194618</td>\n",
       "    </tr>\n",
       "    <tr>\n",
       "      <th>Om</th>\n",
       "      <td>-0.104642</td>\n",
       "      <td>0.085332</td>\n",
       "      <td>-1.162470</td>\n",
       "    </tr>\n",
       "  </tbody>\n",
       "</table>\n",
       "</div>"
      ],
      "text/plain": [
       "                Maas       Yas  Calisma Saati\n",
       "Yeni index                                   \n",
       "Ay          0.678673  0.029058       0.174665\n",
       "Os          0.230443 -0.784472       0.084087\n",
       "Ar          0.910762 -0.294128      -0.194618\n",
       "Om         -0.104642  0.085332      -1.162470"
      ]
     },
     "execution_count": 55,
     "metadata": {},
     "output_type": "execute_result"
    }
   ],
   "source": [
    "df1"
   ]
  },
  {
   "cell_type": "code",
   "execution_count": 58,
   "id": "c92c1419-3846-4e75-af92-873f97a4b8dc",
   "metadata": {},
   "outputs": [
    {
     "data": {
      "text/plain": [
       "Maas             0.678673\n",
       "Yas              0.029058\n",
       "Calisma Saati    0.174665\n",
       "Name: Ay, dtype: float64"
      ]
     },
     "execution_count": 58,
     "metadata": {},
     "output_type": "execute_result"
    }
   ],
   "source": [
    "df1.loc[\"Ay\"]"
   ]
  },
  {
   "cell_type": "code",
   "execution_count": 64,
   "id": "0b37f658-7640-4e79-a951-9e354cb5be9a",
   "metadata": {},
   "outputs": [],
   "source": [
    "first_index = [\"Tom_Jerry\", \"Tom_Jerry\",\"Candy_Heidi\",\"Candy_Heidi\"]"
   ]
  },
  {
   "cell_type": "code",
   "execution_count": 66,
   "id": "d531f33c-0bf6-4a38-8a6b-53a9318ef680",
   "metadata": {},
   "outputs": [],
   "source": [
    "inner_index = [\"Tom\" ,\"Jerry\" , \"Candy\",\"Heidi\"]"
   ]
  },
  {
   "cell_type": "code",
   "execution_count": 68,
   "id": "adcdf6c0-c885-4cf0-9b8d-ae39f03fbc9a",
   "metadata": {},
   "outputs": [],
   "source": [
    "zip_index = list(zip(first_index,inner_index))"
   ]
  },
  {
   "cell_type": "code",
   "execution_count": 69,
   "id": "db4d9945-1128-4892-a73b-5a17166238c1",
   "metadata": {},
   "outputs": [
    {
     "data": {
      "text/plain": [
       "[('Tom_Jerry', 'Tom'),\n",
       " ('Tom_Jerry', 'Jerry'),\n",
       " ('Candy_Heidi', 'Candy'),\n",
       " ('Candy_Heidi', 'Heidi')]"
      ]
     },
     "execution_count": 69,
     "metadata": {},
     "output_type": "execute_result"
    }
   ],
   "source": [
    "zip_index"
   ]
  },
  {
   "cell_type": "code",
   "execution_count": 70,
   "id": "ea0aa712-d669-43ef-b385-8d23729164fa",
   "metadata": {},
   "outputs": [],
   "source": [
    "zip_index = pd.MultiIndex.from_tuples(zip_index)"
   ]
  },
  {
   "cell_type": "code",
   "execution_count": 71,
   "id": "a1ec4355-92fe-444b-bfee-b1f5c564c695",
   "metadata": {},
   "outputs": [
    {
     "data": {
      "text/plain": [
       "MultiIndex([(  'Tom_Jerry',   'Tom'),\n",
       "            (  'Tom_Jerry', 'Jerry'),\n",
       "            ('Candy_Heidi', 'Candy'),\n",
       "            ('Candy_Heidi', 'Heidi')],\n",
       "           )"
      ]
     },
     "execution_count": 71,
     "metadata": {},
     "output_type": "execute_result"
    }
   ],
   "source": [
    "zip_index"
   ]
  },
  {
   "cell_type": "code",
   "execution_count": 72,
   "id": "7700721e-3fc3-4c2a-93c6-780dace9b1b6",
   "metadata": {},
   "outputs": [
    {
     "data": {
      "text/plain": [
       "pandas.core.indexes.multi.MultiIndex"
      ]
     },
     "execution_count": 72,
     "metadata": {},
     "output_type": "execute_result"
    }
   ],
   "source": [
    "type(zip_index)"
   ]
  },
  {
   "cell_type": "code",
   "execution_count": 74,
   "id": "f38a3506-81e8-4276-8bba-f6d42a31aa68",
   "metadata": {},
   "outputs": [],
   "source": [
    "myCartoonList = [[40,\"A\"],[50,\"B\"],[60,\"C\"],[70,\"D\"]]"
   ]
  },
  {
   "cell_type": "code",
   "execution_count": 75,
   "id": "baf51ce7-f2bb-4ca9-9279-24907d25455b",
   "metadata": {},
   "outputs": [],
   "source": [
    "npCartoon = np.array(myCartoonList)"
   ]
  },
  {
   "cell_type": "code",
   "execution_count": 77,
   "id": "86aeeb72-8e44-4024-bc49-e0b418a857a1",
   "metadata": {},
   "outputs": [],
   "source": [
    "dfCartton = pd.DataFrame(npCartoon, index = zip_index , columns =[\"Yas\" ,\"Meslek\"])"
   ]
  },
  {
   "cell_type": "code",
   "execution_count": 80,
   "id": "274219e1-9306-4cf7-aca9-8486a902dbe8",
   "metadata": {},
   "outputs": [
    {
     "data": {
      "text/html": [
       "<div>\n",
       "<style scoped>\n",
       "    .dataframe tbody tr th:only-of-type {\n",
       "        vertical-align: middle;\n",
       "    }\n",
       "\n",
       "    .dataframe tbody tr th {\n",
       "        vertical-align: top;\n",
       "    }\n",
       "\n",
       "    .dataframe thead th {\n",
       "        text-align: right;\n",
       "    }\n",
       "</style>\n",
       "<table border=\"1\" class=\"dataframe\">\n",
       "  <thead>\n",
       "    <tr style=\"text-align: right;\">\n",
       "      <th></th>\n",
       "      <th></th>\n",
       "      <th>Yas</th>\n",
       "      <th>Meslek</th>\n",
       "    </tr>\n",
       "  </thead>\n",
       "  <tbody>\n",
       "    <tr>\n",
       "      <th rowspan=\"2\" valign=\"top\">Tom_Jerry</th>\n",
       "      <th>Tom</th>\n",
       "      <td>40</td>\n",
       "      <td>A</td>\n",
       "    </tr>\n",
       "    <tr>\n",
       "      <th>Jerry</th>\n",
       "      <td>50</td>\n",
       "      <td>B</td>\n",
       "    </tr>\n",
       "    <tr>\n",
       "      <th rowspan=\"2\" valign=\"top\">Candy_Heidi</th>\n",
       "      <th>Candy</th>\n",
       "      <td>60</td>\n",
       "      <td>C</td>\n",
       "    </tr>\n",
       "    <tr>\n",
       "      <th>Heidi</th>\n",
       "      <td>70</td>\n",
       "      <td>D</td>\n",
       "    </tr>\n",
       "  </tbody>\n",
       "</table>\n",
       "</div>"
      ],
      "text/plain": [
       "                  Yas Meslek\n",
       "Tom_Jerry   Tom    40      A\n",
       "            Jerry  50      B\n",
       "Candy_Heidi Candy  60      C\n",
       "            Heidi  70      D"
      ]
     },
     "execution_count": 80,
     "metadata": {},
     "output_type": "execute_result"
    }
   ],
   "source": [
    "dfCartton"
   ]
  },
  {
   "cell_type": "code",
   "execution_count": 81,
   "id": "c8332bc6-cf20-42cf-8cdf-d1b298d96b1a",
   "metadata": {},
   "outputs": [
    {
     "data": {
      "text/html": [
       "<div>\n",
       "<style scoped>\n",
       "    .dataframe tbody tr th:only-of-type {\n",
       "        vertical-align: middle;\n",
       "    }\n",
       "\n",
       "    .dataframe tbody tr th {\n",
       "        vertical-align: top;\n",
       "    }\n",
       "\n",
       "    .dataframe thead th {\n",
       "        text-align: right;\n",
       "    }\n",
       "</style>\n",
       "<table border=\"1\" class=\"dataframe\">\n",
       "  <thead>\n",
       "    <tr style=\"text-align: right;\">\n",
       "      <th></th>\n",
       "      <th>Yas</th>\n",
       "      <th>Meslek</th>\n",
       "    </tr>\n",
       "  </thead>\n",
       "  <tbody>\n",
       "    <tr>\n",
       "      <th>Tom</th>\n",
       "      <td>40</td>\n",
       "      <td>A</td>\n",
       "    </tr>\n",
       "    <tr>\n",
       "      <th>Jerry</th>\n",
       "      <td>50</td>\n",
       "      <td>B</td>\n",
       "    </tr>\n",
       "  </tbody>\n",
       "</table>\n",
       "</div>"
      ],
      "text/plain": [
       "      Yas Meslek\n",
       "Tom    40      A\n",
       "Jerry  50      B"
      ]
     },
     "execution_count": 81,
     "metadata": {},
     "output_type": "execute_result"
    }
   ],
   "source": [
    "dfCartton.loc[\"Tom_Jerry\"]"
   ]
  },
  {
   "cell_type": "code",
   "execution_count": 82,
   "id": "1f0f6cf2-8d31-47b3-91ed-ad13ba27a416",
   "metadata": {},
   "outputs": [
    {
     "data": {
      "text/html": [
       "<div>\n",
       "<style scoped>\n",
       "    .dataframe tbody tr th:only-of-type {\n",
       "        vertical-align: middle;\n",
       "    }\n",
       "\n",
       "    .dataframe tbody tr th {\n",
       "        vertical-align: top;\n",
       "    }\n",
       "\n",
       "    .dataframe thead th {\n",
       "        text-align: right;\n",
       "    }\n",
       "</style>\n",
       "<table border=\"1\" class=\"dataframe\">\n",
       "  <thead>\n",
       "    <tr style=\"text-align: right;\">\n",
       "      <th></th>\n",
       "      <th>Yas</th>\n",
       "      <th>Meslek</th>\n",
       "    </tr>\n",
       "  </thead>\n",
       "  <tbody>\n",
       "    <tr>\n",
       "      <th>Candy</th>\n",
       "      <td>60</td>\n",
       "      <td>C</td>\n",
       "    </tr>\n",
       "    <tr>\n",
       "      <th>Heidi</th>\n",
       "      <td>70</td>\n",
       "      <td>D</td>\n",
       "    </tr>\n",
       "  </tbody>\n",
       "</table>\n",
       "</div>"
      ],
      "text/plain": [
       "      Yas Meslek\n",
       "Candy  60      C\n",
       "Heidi  70      D"
      ]
     },
     "execution_count": 82,
     "metadata": {},
     "output_type": "execute_result"
    }
   ],
   "source": [
    "dfCartton.loc[\"Candy_Heidi\"]"
   ]
  },
  {
   "cell_type": "code",
   "execution_count": 83,
   "id": "da9a2fad-c4d0-4d0f-9811-950e0fa11344",
   "metadata": {},
   "outputs": [
    {
     "data": {
      "text/plain": [
       "Yas       60\n",
       "Meslek     C\n",
       "Name: Candy, dtype: object"
      ]
     },
     "execution_count": 83,
     "metadata": {},
     "output_type": "execute_result"
    }
   ],
   "source": [
    "dfCartton.loc[\"Candy_Heidi\"].loc[\"Candy\"]"
   ]
  },
  {
   "cell_type": "code",
   "execution_count": 84,
   "id": "4aab102c-3ebd-48a1-82c0-4d434a570325",
   "metadata": {},
   "outputs": [],
   "source": [
    "dfCartton.index.names = [\"Cizgi Film\" , \"Karakter\"]"
   ]
  },
  {
   "cell_type": "code",
   "execution_count": 85,
   "id": "3e0a2672-e544-4767-9fbb-3e997cb4b6fd",
   "metadata": {},
   "outputs": [
    {
     "data": {
      "text/html": [
       "<div>\n",
       "<style scoped>\n",
       "    .dataframe tbody tr th:only-of-type {\n",
       "        vertical-align: middle;\n",
       "    }\n",
       "\n",
       "    .dataframe tbody tr th {\n",
       "        vertical-align: top;\n",
       "    }\n",
       "\n",
       "    .dataframe thead th {\n",
       "        text-align: right;\n",
       "    }\n",
       "</style>\n",
       "<table border=\"1\" class=\"dataframe\">\n",
       "  <thead>\n",
       "    <tr style=\"text-align: right;\">\n",
       "      <th></th>\n",
       "      <th></th>\n",
       "      <th>Yas</th>\n",
       "      <th>Meslek</th>\n",
       "    </tr>\n",
       "    <tr>\n",
       "      <th>Cizgi Film</th>\n",
       "      <th>Karakter</th>\n",
       "      <th></th>\n",
       "      <th></th>\n",
       "    </tr>\n",
       "  </thead>\n",
       "  <tbody>\n",
       "    <tr>\n",
       "      <th rowspan=\"2\" valign=\"top\">Tom_Jerry</th>\n",
       "      <th>Tom</th>\n",
       "      <td>40</td>\n",
       "      <td>A</td>\n",
       "    </tr>\n",
       "    <tr>\n",
       "      <th>Jerry</th>\n",
       "      <td>50</td>\n",
       "      <td>B</td>\n",
       "    </tr>\n",
       "    <tr>\n",
       "      <th rowspan=\"2\" valign=\"top\">Candy_Heidi</th>\n",
       "      <th>Candy</th>\n",
       "      <td>60</td>\n",
       "      <td>C</td>\n",
       "    </tr>\n",
       "    <tr>\n",
       "      <th>Heidi</th>\n",
       "      <td>70</td>\n",
       "      <td>D</td>\n",
       "    </tr>\n",
       "  </tbody>\n",
       "</table>\n",
       "</div>"
      ],
      "text/plain": [
       "                     Yas Meslek\n",
       "Cizgi Film  Karakter           \n",
       "Tom_Jerry   Tom       40      A\n",
       "            Jerry     50      B\n",
       "Candy_Heidi Candy     60      C\n",
       "            Heidi     70      D"
      ]
     },
     "execution_count": 85,
     "metadata": {},
     "output_type": "execute_result"
    }
   ],
   "source": [
    "dfCartton"
   ]
  },
  {
   "cell_type": "code",
   "execution_count": null,
   "id": "0583d6fc-d21b-489a-b12b-1801b63ff8bc",
   "metadata": {},
   "outputs": [],
   "source": []
  },
  {
   "cell_type": "code",
   "execution_count": null,
   "id": "1688396f-6989-480a-beca-22268ab59773",
   "metadata": {},
   "outputs": [],
   "source": []
  }
 ],
 "metadata": {
  "kernelspec": {
   "display_name": "Python 3 (ipykernel)",
   "language": "python",
   "name": "python3"
  },
  "language_info": {
   "codemirror_mode": {
    "name": "ipython",
    "version": 3
   },
   "file_extension": ".py",
   "mimetype": "text/x-python",
   "name": "python",
   "nbconvert_exporter": "python",
   "pygments_lexer": "ipython3",
   "version": "3.12.4"
  }
 },
 "nbformat": 4,
 "nbformat_minor": 5
}
