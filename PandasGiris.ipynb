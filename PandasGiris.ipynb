{
 "cells": [
  {
   "cell_type": "code",
   "execution_count": 1,
   "id": "0fabc8e8-56d4-4ca4-bddc-e4f164fc20b1",
   "metadata": {},
   "outputs": [],
   "source": [
    "import numpy as np\n",
    "import pandas as pd"
   ]
  },
  {
   "cell_type": "markdown",
   "id": "f6d89413-70d1-4b61-b149-27ff633547fd",
   "metadata": {},
   "source": [
    "## Series"
   ]
  },
  {
   "cell_type": "code",
   "execution_count": 2,
   "id": "d14020d8-9f7b-4002-972e-56c48af2fd52",
   "metadata": {},
   "outputs": [],
   "source": [
    "myDict = {\"Ayse\" : 50 , \"Ali\" : 40 , \"Veli\" : 30}"
   ]
  },
  {
   "cell_type": "code",
   "execution_count": 3,
   "id": "632142b7-eb60-4646-89f5-56e4c0a537de",
   "metadata": {},
   "outputs": [
    {
     "data": {
      "text/plain": [
       "Ayse    50\n",
       "Ali     40\n",
       "Veli    30\n",
       "dtype: int64"
      ]
     },
     "execution_count": 3,
     "metadata": {},
     "output_type": "execute_result"
    }
   ],
   "source": [
    "pd.Series(myDict)"
   ]
  },
  {
   "cell_type": "code",
   "execution_count": 4,
   "id": "235a79e9-40b9-4b95-8bef-eac772683347",
   "metadata": {},
   "outputs": [
    {
     "data": {
      "text/plain": [
       "pandas.core.series.Series"
      ]
     },
     "execution_count": 4,
     "metadata": {},
     "output_type": "execute_result"
    }
   ],
   "source": [
    "type(pd.Series(myDict))"
   ]
  },
  {
   "cell_type": "code",
   "execution_count": 8,
   "id": "2d7c1bee-fd74-4dc9-a2e5-1453f6d6a908",
   "metadata": {},
   "outputs": [],
   "source": [
    "ages = [50,40,30]\n",
    "names = [\"Ayse\", \"Ali\",  \"Veli\"]"
   ]
  },
  {
   "cell_type": "code",
   "execution_count": 6,
   "id": "07ed9323-c936-4dba-b559-772c54623afe",
   "metadata": {},
   "outputs": [
    {
     "data": {
      "text/plain": [
       "0    50\n",
       "1    40\n",
       "2    30\n",
       "dtype: int64"
      ]
     },
     "execution_count": 6,
     "metadata": {},
     "output_type": "execute_result"
    }
   ],
   "source": [
    "pd.Series(ages)"
   ]
  },
  {
   "cell_type": "code",
   "execution_count": 9,
   "id": "3afbb5a9-b643-4111-9137-70560dc6e4e0",
   "metadata": {},
   "outputs": [
    {
     "data": {
      "text/plain": [
       "Ayse    50\n",
       "Ali     40\n",
       "Veli    30\n",
       "dtype: int64"
      ]
     },
     "execution_count": 9,
     "metadata": {},
     "output_type": "execute_result"
    }
   ],
   "source": [
    "pd.Series(ages,names)"
   ]
  },
  {
   "cell_type": "code",
   "execution_count": 11,
   "id": "56c61251-c30c-4fa8-8ed9-c0405e3296c4",
   "metadata": {},
   "outputs": [
    {
     "data": {
      "text/plain": [
       "Ayse    50\n",
       "Ali     40\n",
       "Veli    30\n",
       "dtype: int64"
      ]
     },
     "execution_count": 11,
     "metadata": {},
     "output_type": "execute_result"
    }
   ],
   "source": [
    "pd.Series(data=ages, index = names)"
   ]
  },
  {
   "cell_type": "code",
   "execution_count": 12,
   "id": "44a12f91-afc4-45e2-8014-ec6663fb4f87",
   "metadata": {},
   "outputs": [],
   "source": [
    "arr1 = np.array([50,40,30])"
   ]
  },
  {
   "cell_type": "code",
   "execution_count": 13,
   "id": "c7d8d36d-7e0a-417c-9fe4-1c9b721096e5",
   "metadata": {},
   "outputs": [
    {
     "data": {
      "text/plain": [
       "array([50, 40, 30])"
      ]
     },
     "execution_count": 13,
     "metadata": {},
     "output_type": "execute_result"
    }
   ],
   "source": [
    "arr1"
   ]
  },
  {
   "cell_type": "code",
   "execution_count": 14,
   "id": "edee75b7-e518-4167-b986-2d6ae953a620",
   "metadata": {},
   "outputs": [
    {
     "data": {
      "text/plain": [
       "0    50\n",
       "1    40\n",
       "2    30\n",
       "dtype: int32"
      ]
     },
     "execution_count": 14,
     "metadata": {},
     "output_type": "execute_result"
    }
   ],
   "source": [
    "pd.Series(arr1)"
   ]
  },
  {
   "cell_type": "code",
   "execution_count": 15,
   "id": "2191a12f",
   "metadata": {},
   "outputs": [
    {
     "data": {
      "text/plain": [
       "Ayse    50\n",
       "Ali     40\n",
       "Veli    30\n",
       "dtype: int32"
      ]
     },
     "execution_count": 15,
     "metadata": {},
     "output_type": "execute_result"
    }
   ],
   "source": [
    "pd.Series(arr1, names)"
   ]
  },
  {
   "cell_type": "code",
   "execution_count": 17,
   "id": "8b4927c3-277d-40e2-be3e-c12e581e1205",
   "metadata": {},
   "outputs": [
    {
     "data": {
      "text/plain": [
       "1     Ayse\n",
       "2    Osman\n",
       "3     Arzu\n",
       "dtype: object"
      ]
     },
     "execution_count": 17,
     "metadata": {},
     "output_type": "execute_result"
    }
   ],
   "source": [
    "pd.Series([\"Ayse\" , \"Osman\", \"Arzu\"] , [1,2,3])"
   ]
  },
  {
   "cell_type": "code",
   "execution_count": 19,
   "id": "f63223a3-a914-4ece-9aa9-0aee052f2de3",
   "metadata": {},
   "outputs": [],
   "source": [
    "sira1 = pd.Series([10,5,1],[\"Ayse\" , \"Osman\",\"Arzu\"])"
   ]
  },
  {
   "cell_type": "code",
   "execution_count": 21,
   "id": "e0448d8c-3d09-4e3e-b717-c78cede33ab0",
   "metadata": {},
   "outputs": [
    {
     "data": {
      "text/plain": [
       "Ayse     10\n",
       "Osman     5\n",
       "Arzu      1\n",
       "dtype: int64"
      ]
     },
     "execution_count": 21,
     "metadata": {},
     "output_type": "execute_result"
    }
   ],
   "source": [
    "sira1"
   ]
  },
  {
   "cell_type": "code",
   "execution_count": 22,
   "id": "aebf2332",
   "metadata": {},
   "outputs": [],
   "source": [
    "sira2 = pd.Series([20,10,8],[\"Ayse\" , \"Osman\",\"Arzu\"])"
   ]
  },
  {
   "cell_type": "code",
   "execution_count": 23,
   "id": "fc0d4af0-2b7a-4588-a4a9-e69e29c5c5d5",
   "metadata": {},
   "outputs": [
    {
     "data": {
      "text/plain": [
       "Ayse     20\n",
       "Osman    10\n",
       "Arzu      8\n",
       "dtype: int64"
      ]
     },
     "execution_count": 23,
     "metadata": {},
     "output_type": "execute_result"
    }
   ],
   "source": [
    "sira2"
   ]
  },
  {
   "cell_type": "code",
   "execution_count": 25,
   "id": "eb655bdc-66ca-4c2c-b423-e825858a18ca",
   "metadata": {},
   "outputs": [
    {
     "data": {
      "text/plain": [
       "10"
      ]
     },
     "execution_count": 25,
     "metadata": {},
     "output_type": "execute_result"
    }
   ],
   "source": [
    "sira2[\"Osman\"]"
   ]
  },
  {
   "cell_type": "code",
   "execution_count": 27,
   "id": "17ca892a-a942-4a2b-b4dc-647a860bc368",
   "metadata": {},
   "outputs": [],
   "source": [
    "sonuc = sira1 + sira2 "
   ]
  },
  {
   "cell_type": "code",
   "execution_count": 28,
   "id": "18c1e444-8bbf-4034-ac47-2161c00d1534",
   "metadata": {},
   "outputs": [
    {
     "data": {
      "text/plain": [
       "Ayse     30\n",
       "Osman    15\n",
       "Arzu      9\n",
       "dtype: int64"
      ]
     },
     "execution_count": 28,
     "metadata": {},
     "output_type": "execute_result"
    }
   ],
   "source": [
    "sonuc"
   ]
  },
  {
   "cell_type": "code",
   "execution_count": 29,
   "id": "dacf8851-e2c7-475d-9887-eb046619b411",
   "metadata": {},
   "outputs": [],
   "source": [
    "s1 = pd.Series([20,30,40,50], [\"a\",\"b\",\"c\",\"d\"])"
   ]
  },
  {
   "cell_type": "code",
   "execution_count": 30,
   "id": "5b959071",
   "metadata": {},
   "outputs": [],
   "source": [
    "s2 = pd.Series([10,5,3,1], [\"a\",\"c\",\"f\",\"g\"])"
   ]
  },
  {
   "cell_type": "code",
   "execution_count": 31,
   "id": "57be5256-709e-401f-b39c-50845c4c7a1c",
   "metadata": {},
   "outputs": [
    {
     "data": {
      "text/plain": [
       "a    20\n",
       "b    30\n",
       "c    40\n",
       "d    50\n",
       "dtype: int64"
      ]
     },
     "execution_count": 31,
     "metadata": {},
     "output_type": "execute_result"
    }
   ],
   "source": [
    "s1"
   ]
  },
  {
   "cell_type": "code",
   "execution_count": 32,
   "id": "a74b081c-ef93-4309-b12d-df2aca0bacce",
   "metadata": {},
   "outputs": [
    {
     "data": {
      "text/plain": [
       "a    10\n",
       "c     5\n",
       "f     3\n",
       "g     1\n",
       "dtype: int64"
      ]
     },
     "execution_count": 32,
     "metadata": {},
     "output_type": "execute_result"
    }
   ],
   "source": [
    "s2"
   ]
  },
  {
   "cell_type": "code",
   "execution_count": 34,
   "id": "34965306-fcf9-422f-9da5-9b3b9f2d292f",
   "metadata": {},
   "outputs": [
    {
     "data": {
      "text/plain": [
       "a    30.0\n",
       "b     NaN\n",
       "c    45.0\n",
       "d     NaN\n",
       "f     NaN\n",
       "g     NaN\n",
       "dtype: float64"
      ]
     },
     "execution_count": 34,
     "metadata": {},
     "output_type": "execute_result"
    }
   ],
   "source": [
    "s1 + s2   # indexleri farklı old için NaN verdi"
   ]
  },
  {
   "cell_type": "code",
   "execution_count": null,
   "id": "adbd4274-4141-49c0-9e10-cc200b830a33",
   "metadata": {},
   "outputs": [],
   "source": []
  }
 ],
 "metadata": {
  "kernelspec": {
   "display_name": "Python 3 (ipykernel)",
   "language": "python",
   "name": "python3"
  },
  "language_info": {
   "codemirror_mode": {
    "name": "ipython",
    "version": 3
   },
   "file_extension": ".py",
   "mimetype": "text/x-python",
   "name": "python",
   "nbconvert_exporter": "python",
   "pygments_lexer": "ipython3",
   "version": "3.12.4"
  }
 },
 "nbformat": 4,
 "nbformat_minor": 5
}
